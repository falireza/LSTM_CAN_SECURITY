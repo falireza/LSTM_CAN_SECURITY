{
  "cells": [
    {
      "cell_type": "markdown",
      "source": [
        "## ACHIVED RESULTS:\n",
        "\n",
        "**test accuracy of 95.87%**\n",
        "\n",
        "**Precision: 0.7809**\n",
        "\n",
        "**Recall: 0.7652**\n",
        "\n",
        "**F1 Score: 0.7729**"
      ],
      "metadata": {
        "id": "LRPYorP4Ujne"
      }
    },
    {
      "cell_type": "markdown",
      "source": [
        "## **informations**\n",
        "\n"
      ],
      "metadata": {
        "id": "7sesEX1Im4Zx"
      }
    },
    {
      "cell_type": "markdown",
      "source": [
        "**Dear Teams,**\n",
        "\n",
        "This document provides a template for your work to create an LSTM based model that serves as a backend for an IDS system that filters malicious messages detected in the internal CAN network of a car. You should create a model that does binary classification on CAN message frames.\n",
        "\n",
        "0 - non-malicious\n",
        "\n",
        "1 - malicious/ (in this case) fuzzing messages\n",
        "\n",
        "\n",
        "You should be able to solve the task by only editing 'TODO' parts. Please don't make any changes to the remaining code snippets."
      ],
      "metadata": {
        "id": "wisJjb4UyF_v"
      }
    },
    {
      "cell_type": "markdown",
      "source": [
        "**Solutions**"
      ],
      "metadata": {
        "id": "CCiiA1r31ljb"
      }
    },
    {
      "cell_type": "markdown",
      "source": [
        "If you are ready with your solutions please send the models, as well as the finalised jupiter notebooks with outputs and the documentations to our contact email address."
      ],
      "metadata": {
        "id": "lyv6Rept1oBU"
      }
    },
    {
      "cell_type": "markdown",
      "source": [
        "**Contact us**"
      ],
      "metadata": {
        "id": "LHNlCGGB1JFR"
      }
    },
    {
      "cell_type": "markdown",
      "source": [
        "If you may have any questions send us an email: msgplaut.hu@gmail.com"
      ],
      "metadata": {
        "id": "4PGXXqks0qhw"
      }
    },
    {
      "cell_type": "markdown",
      "source": [
        "**Useful links**"
      ],
      "metadata": {
        "id": "n43plwBUx492"
      }
    },
    {
      "cell_type": "markdown",
      "source": [
        "LSTM-Based Intrusion Detection System for In-Vehicle Can Bus Communications: https://ieeexplore.ieee.org/abstract/document/9216166\\\n",
        "\n",
        "A curated CAN dataset for automotive intrusion detection: https://www.sciencedirect.com/science/article/pii/S0167404824000786#se0310\n",
        "(This is the source of the datasets provided by us)\n",
        "\n",
        "Multivariate Time Series Classification Tutorial with LSTM in PyTorch, PyTorch Lightning and Python: https://www.youtube.com/watch?v=PCgrgHgy26c\n",
        "(Watch out! In your solution you should be using tensorflow with keras)\n",
        "\n",
        "How LSTM Networks Work?: https://www.youtube.com/watch?v=guqgmVqcy2c"
      ],
      "metadata": {
        "id": "InGrrmIPyAwH"
      }
    },
    {
      "cell_type": "markdown",
      "source": [
        "## **Importing libraries**"
      ],
      "metadata": {
        "id": "TG5wJIspE75M"
      }
    },
    {
      "cell_type": "code",
      "execution_count": 1,
      "metadata": {
        "id": "fr5Z_GiwmdF0"
      },
      "outputs": [],
      "source": [
        "import pandas as pd\n",
        "import numpy as np\n",
        "from sklearn.model_selection import train_test_split\n",
        "from sklearn.preprocessing import StandardScaler\n",
        "from imblearn.over_sampling import SMOTE\n",
        "from tensorflow.keras.models import Sequential\n",
        "from tensorflow.keras.layers import LSTM, Dense, Dropout, BatchNormalization\n",
        "from tensorflow.keras.callbacks import ModelCheckpoint, EarlyStopping\n",
        "from tensorflow.keras.optimizers import Nadam\n",
        "from sklearn.metrics import classification_report, confusion_matrix\n",
        "import matplotlib.pyplot as plt\n",
        "import seaborn as sns\n",
        "\n",
        "# To include learning rate\n",
        "from tensorflow.keras.regularizers import l2\n",
        "from tensorflow.keras.optimizers import Adam\n"
      ]
    },
    {
      "cell_type": "markdown",
      "metadata": {
        "id": "l9PavnwejGPy"
      },
      "source": [
        "## **Loading the dataset**"
      ]
    },
    {
      "cell_type": "code",
      "execution_count": 2,
      "metadata": {
        "id": "16KlovrUmggo",
        "outputId": "163c3a4b-1cd7-4ed6-c5c9-41c9b5660842",
        "colab": {
          "base_uri": "https://localhost:8080/"
        }
      },
      "outputs": [
        {
          "output_type": "execute_result",
          "data": {
            "text/plain": [
              "(660170, 4)"
            ]
          },
          "metadata": {},
          "execution_count": 2
        }
      ],
      "source": [
        "# Load dataset\n",
        "dff = pd.read_csv('fuzzing-1-forester.csv')\n",
        "dfi = pd.read_csv('fuzzing-1-impala.csv')\n",
        "dfs = pd.read_csv('fuzzing-1-silverado.csv')\n",
        "\n",
        "dff.shape"
      ]
    },
    {
      "cell_type": "code",
      "execution_count": 3,
      "metadata": {
        "id": "LVhZ2yw7ZPVJ"
      },
      "outputs": [],
      "source": [
        "df = pd.concat([dff, dfi, dfs])"
      ]
    },
    {
      "cell_type": "markdown",
      "metadata": {
        "id": "Xj017bgwi__Q"
      },
      "source": [
        "## **Data Preprocessing:**"
      ]
    },
    {
      "cell_type": "code",
      "execution_count": 4,
      "metadata": {
        "id": "v4yoTXUCReeU"
      },
      "outputs": [],
      "source": [
        "# Define a function that handles the empty string case\n",
        "def safe_convert_hex(x):\n",
        "    if pd.isna(x) or x == '' or isinstance(x, float):  # Handle missing or float values\n",
        "        return 0  # Return 0 for missing/invalid values\n",
        "    try:\n",
        "        return int(str(x), 16)\n",
        "    except ValueError:\n",
        "        print(f\"Error converting {x} to int\")\n",
        "        return 0  # Return the placeholder value for any other conversion errors\n"
      ]
    },
    {
      "cell_type": "code",
      "execution_count": 5,
      "metadata": {
        "id": "zN0-CREkmmqd",
        "colab": {
          "base_uri": "https://localhost:8080/"
        },
        "outputId": "b97c04fe-5e62-46d7-9a61-077d6d94c182"
      },
      "outputs": [
        {
          "output_type": "stream",
          "name": "stdout",
          "text": [
            "Number of records: 1859362\n",
            "Shape of X (features): (1859362, 10)\n"
          ]
        }
      ],
      "source": [
        "# Function to split the data field into bytes\n",
        "def split_data_field(data_field):\n",
        "    if pd.isna(data_field) or isinstance(data_field, float):  # Handle missing/invalid values\n",
        "        return [0] * 8\n",
        "\n",
        "    data_field = str(data_field).zfill(16)\n",
        "    return [safe_convert_hex(data_field[i:i+2]) for i in range(0, len(data_field), 2)]\n",
        "\n",
        "\n",
        "# Convert timestamp to float\n",
        "df['timestamp'] = df['timestamp'].astype(float)\n",
        "\n",
        "# Convert arbitration_id and data_field\n",
        "df['arbitration_id'] = df['arbitration_id'].apply(safe_convert_hex)\n",
        "df['data_field'] = df['data_field'].apply(lambda x: split_data_field(x))\n",
        "\n",
        "# Split `data_field` into individual byte columns\n",
        "df[['D0', 'D1', 'D2', 'D3', 'D4', 'D5', 'D6', 'D7']] = pd.DataFrame(df['data_field'].tolist(), index=df.index)\n",
        "\n",
        "# Ensure you're using all 10 features (timestamp, arbitration_id, and D0-D7)\n",
        "X = df[['timestamp', 'arbitration_id', 'D0', 'D1', 'D2', 'D3', 'D4', 'D5', 'D6', 'D7']].values\n",
        "y = df['attack'].values\n",
        "\n",
        "print(f\"Number of records: {len(X)}\")\n",
        "print(f\"Shape of X (features): {X.shape}\")"
      ]
    },
    {
      "cell_type": "code",
      "source": [
        "print(X[:5])"
      ],
      "metadata": {
        "colab": {
          "base_uri": "https://localhost:8080/"
        },
        "id": "9GQB3YEiJW-8",
        "outputId": "d94b9b6d-f6ae-46f8-8720-505923680257"
      },
      "execution_count": null,
      "outputs": [
        {
          "output_type": "stream",
          "name": "stdout",
          "text": [
            "[[1.6725312e+09 3.3800000e+02 2.4900000e+02 1.6400000e+02 0.0000000e+00\n",
            "  0.0000000e+00 0.0000000e+00 0.0000000e+00 1.6000000e+01 1.4000000e+02]\n",
            " [1.6725312e+09 3.5600000e+02 4.0000000e+00 0.0000000e+00 0.0000000e+00\n",
            "  0.0000000e+00 0.0000000e+00 0.0000000e+00 0.0000000e+00 4.0000000e+00]\n",
            " [1.6725312e+09 3.2800000e+02 1.1000000e+01 2.5000000e+01 0.0000000e+00\n",
            "  1.2800000e+02 6.5000000e+01 0.0000000e+00 1.7000000e+01 5.0000000e+00]\n",
            " [1.6725312e+09 3.2900000e+02 1.2400000e+02 1.0000000e+00 6.3000000e+01\n",
            "  1.2100000e+02 1.6900000e+02 2.0000000e+01 0.0000000e+00 0.0000000e+00]\n",
            " [1.6725312e+09 3.4200000e+02 1.0000000e+00 1.2800000e+02 0.0000000e+00\n",
            "  0.0000000e+00 0.0000000e+00 0.0000000e+00 0.0000000e+00 1.5000000e+01]]\n"
          ]
        }
      ]
    },
    {
      "cell_type": "markdown",
      "metadata": {
        "id": "V40qCUMMjOe0"
      },
      "source": [
        "**Normalizing features**"
      ]
    },
    {
      "cell_type": "code",
      "execution_count": 6,
      "metadata": {
        "id": "5QTFCNZ4mpUm"
      },
      "outputs": [],
      "source": [
        "# Normalize features with scaler\n",
        "# Initialize the scaler\n",
        "scaler = StandardScaler()\n",
        "\n",
        "# Apply the scaler to the features\n",
        "X_scaled = scaler.fit_transform(X)"
      ]
    },
    {
      "cell_type": "code",
      "source": [
        "print(X_scaled[:5])"
      ],
      "metadata": {
        "colab": {
          "base_uri": "https://localhost:8080/"
        },
        "id": "P0evE7fdKSV_",
        "outputId": "1c6398e4-274c-45e0-b035-ea5edceb416f"
      },
      "execution_count": null,
      "outputs": [
        {
          "output_type": "stream",
          "name": "stdout",
          "text": [
            "[[-0.35304924  3.00764396]\n",
            " [-0.2997958  -0.53477834]\n",
            " [-0.38263448 -0.43242181]\n",
            " [-0.37967596  1.19583094]\n",
            " [-0.34121514 -0.57083124]]\n"
          ]
        }
      ]
    },
    {
      "cell_type": "markdown",
      "metadata": {
        "id": "3w9Dc1AyjaPD"
      },
      "source": [
        "**Applying SMOTE to create balanced dataset**"
      ]
    },
    {
      "cell_type": "code",
      "execution_count": 7,
      "metadata": {
        "id": "le4eAYf1yiAc"
      },
      "outputs": [],
      "source": [
        "# Apply SMOTE to create balanced dataset\n",
        "smote = SMOTE(sampling_strategy='auto', random_state=42)\n",
        "\n",
        "X_resampled, y_resampled = smote.fit_resample(X_scaled, y)"
      ]
    },
    {
      "cell_type": "code",
      "source": [
        "print(f\"Original dataset shape: {X_scaled.shape}\")\n",
        "print(f\"Resampled dataset shape: {X_resampled.shape}\")"
      ],
      "metadata": {
        "id": "yxUr0be3MLcH"
      },
      "execution_count": null,
      "outputs": []
    },
    {
      "cell_type": "markdown",
      "metadata": {
        "id": "IXruzcckjlPE"
      },
      "source": [
        "**Sequence Creation**"
      ]
    },
    {
      "cell_type": "code",
      "execution_count": 8,
      "metadata": {
        "id": "aHjS_sz_mtYM"
      },
      "outputs": [],
      "source": [
        "# Define the sequence length\n",
        "sequence_length = 10\n",
        "\n",
        "# Create sequences\n",
        "def create_sequences(X, y, seq_length):\n",
        "    X_seq = []\n",
        "    y_seq = []\n",
        "\n",
        "    for i in range(len(X) - seq_length):\n",
        "        X_seq.append(X[i:i+seq_length])\n",
        "        y_seq.append(y[i + seq_length - 1])\n",
        "\n",
        "    X_seq = np.array(X_seq)\n",
        "    y_seq = np.array(y_seq)\n",
        "\n",
        "    return X_seq, y_seq\n"
      ]
    },
    {
      "cell_type": "markdown",
      "metadata": {
        "id": "mS4XiZWIjtsW"
      },
      "source": [
        "**Creating sequences after resampling**\n"
      ]
    },
    {
      "cell_type": "code",
      "execution_count": 9,
      "metadata": {
        "id": "7kQR92-GysYS"
      },
      "outputs": [],
      "source": [
        "# Create sequences after resampling\n",
        "X_seq, y_seq = create_sequences(X_resampled, y_resampled, sequence_length)"
      ]
    },
    {
      "cell_type": "code",
      "source": [
        "# Print the shape of the sequences to check if they are correct\n",
        "print(f\"Shape of X_seq: {X_seq.shape}\")\n",
        "print(f\"Shape of y_seq: {y_seq.shape}\")"
      ],
      "metadata": {
        "colab": {
          "base_uri": "https://localhost:8080/"
        },
        "id": "heZOkIRZOPsN",
        "outputId": "63a10741-f2fa-417b-bd46-9a8c6943d5cb"
      },
      "execution_count": null,
      "outputs": [
        {
          "output_type": "stream",
          "name": "stdout",
          "text": [
            "Shape of X_seq: (3471596, 20, 2)\n",
            "Shape of y_seq: (3471596,)\n"
          ]
        }
      ]
    },
    {
      "cell_type": "markdown",
      "metadata": {
        "id": "2wqtCo2Oj0fR"
      },
      "source": [
        "**Spliting the data into training and testing sets**"
      ]
    },
    {
      "cell_type": "code",
      "execution_count": 10,
      "metadata": {
        "id": "uJHYBBORmUa-",
        "colab": {
          "base_uri": "https://localhost:8080/"
        },
        "outputId": "541769bc-9157-4a19-8d40-9a7b3bd477b1"
      },
      "outputs": [
        {
          "output_type": "stream",
          "name": "stdout",
          "text": [
            "Training set size: 2777284\n",
            "Test set size: 694322\n"
          ]
        }
      ],
      "source": [
        "# Split the data into training and testing sets\n",
        "X_train, X_test, y_train, y_test = train_test_split(X_seq, y_seq, test_size=0.2, random_state=42)\n",
        "# Print the size of the training and testing sets\n",
        "print(f'Training set size: {len(X_train)}')\n",
        "print(f'Test set size: {len(X_test)}')\n"
      ]
    },
    {
      "cell_type": "code",
      "execution_count": 11,
      "metadata": {
        "id": "KU2P98USsk2f"
      },
      "outputs": [],
      "source": [
        "# Define the ModelCheckpoint callback\n",
        "checkpoint_callback = ModelCheckpoint(\n",
        "    filepath='best_model.keras', # Path where the model will be saved\n",
        "    monitor='val_loss',       # Quantity to monitor\n",
        "    save_best_only=True,      # Save only the best model\n",
        "    verbose=1                 # Verbosity mode (1 = progress bar)\n",
        ")\n",
        "\n",
        "# Define the EarlyStopping callback\n",
        "early_stopping_callback = EarlyStopping(\n",
        "    monitor='val_loss',       # Quantity to monitor\n",
        "    patience=5,              # Number of epochs with no improvement after which training will be stopped\n",
        "    verbose=1                 # Verbosity mode\n",
        ")"
      ]
    },
    {
      "cell_type": "markdown",
      "metadata": {
        "id": "YMHUEfEyj6Fu"
      },
      "source": [
        "## **Defining a deeper LSTM model**"
      ]
    },
    {
      "cell_type": "code",
      "execution_count": null,
      "metadata": {
        "id": "HGpkqqO4mUO5",
        "colab": {
          "base_uri": "https://localhost:8080/"
        },
        "outputId": "5e7945db-68c8-4e25-db87-e56dbc7b2e85"
      },
      "outputs": [
        {
          "output_type": "stream",
          "name": "stderr",
          "text": [
            "/usr/local/lib/python3.10/dist-packages/keras/src/layers/rnn/rnn.py:204: UserWarning: Do not pass an `input_shape`/`input_dim` argument to a layer. When using Sequential models, prefer using an `Input(shape)` object as the first layer in the model instead.\n",
            "  super().__init__(**kwargs)\n"
          ]
        }
      ],
      "source": [
        "# Define a deep LSTM model with stacked layers\n",
        "model = Sequential()\n",
        "\n",
        "# First LSTM layer with more units, return sequences for stacking layers\n",
        "model.add(LSTM(units=64, return_sequences=True, input_shape=(sequence_length, 10)))  # 10 features (timestamp + arbitration_id + D0-D7)\n",
        "model.add(BatchNormalization())  # Normalize the output of the LSTM layer\n",
        "model.add(Dropout(0.2))  # Dropout to avoid overfitting\n",
        "\n",
        "# Second LSTM layer\n",
        "model.add(LSTM(units=32, return_sequences=False))  # Output only the final hidden state\n",
        "model.add(BatchNormalization())  # Normalize\n",
        "model.add(Dropout(0.2))  # Dropout\n",
        "\n",
        "# Fully connected layer before the output\n",
        "model.add(Dense(units=16, activation='relu'))  # Dense layer to learn more complex patterns\n",
        "model.add(Dropout(0.2))  # Dropout\n",
        "\n",
        "# Output layer for binary classification\n",
        "model.add(Dense(units=1, activation='sigmoid'))  # Binary output\n"
      ]
    },
    {
      "cell_type": "markdown",
      "metadata": {
        "id": "XP4SQXkPj95T"
      },
      "source": [
        "**Compiling the model**"
      ]
    },
    {
      "cell_type": "code",
      "execution_count": null,
      "metadata": {
        "id": "2Q5NrykumUCq"
      },
      "outputs": [],
      "source": [
        "# Compile the model\n",
        "model.compile(optimizer=Nadam(learning_rate=0.0001), loss='binary_crossentropy', metrics=['accuracy'])"
      ]
    },
    {
      "cell_type": "code",
      "source": [
        "model.summary()"
      ],
      "metadata": {
        "colab": {
          "base_uri": "https://localhost:8080/",
          "height": 463
        },
        "id": "AnadKiN_Petl",
        "outputId": "b3dd532a-6dbe-47d2-b274-170a0b77635d"
      },
      "execution_count": null,
      "outputs": [
        {
          "output_type": "display_data",
          "data": {
            "text/plain": [
              "\u001b[1mModel: \"sequential\"\u001b[0m\n"
            ],
            "text/html": [
              "<pre style=\"white-space:pre;overflow-x:auto;line-height:normal;font-family:Menlo,'DejaVu Sans Mono',consolas,'Courier New',monospace\"><span style=\"font-weight: bold\">Model: \"sequential\"</span>\n",
              "</pre>\n"
            ]
          },
          "metadata": {}
        },
        {
          "output_type": "display_data",
          "data": {
            "text/plain": [
              "┏━━━━━━━━━━━━━━━━━━━━━━━━━━━━━━━━━━━━━━┳━━━━━━━━━━━━━━━━━━━━━━━━━━━━━┳━━━━━━━━━━━━━━━━━┓\n",
              "┃\u001b[1m \u001b[0m\u001b[1mLayer (type)                        \u001b[0m\u001b[1m \u001b[0m┃\u001b[1m \u001b[0m\u001b[1mOutput Shape               \u001b[0m\u001b[1m \u001b[0m┃\u001b[1m \u001b[0m\u001b[1m        Param #\u001b[0m\u001b[1m \u001b[0m┃\n",
              "┡━━━━━━━━━━━━━━━━━━━━━━━━━━━━━━━━━━━━━━╇━━━━━━━━━━━━━━━━━━━━━━━━━━━━━╇━━━━━━━━━━━━━━━━━┩\n",
              "│ lstm (\u001b[38;5;33mLSTM\u001b[0m)                          │ (\u001b[38;5;45mNone\u001b[0m, \u001b[38;5;34m10\u001b[0m, \u001b[38;5;34m64\u001b[0m)              │          \u001b[38;5;34m19,200\u001b[0m │\n",
              "├──────────────────────────────────────┼─────────────────────────────┼─────────────────┤\n",
              "│ batch_normalization                  │ (\u001b[38;5;45mNone\u001b[0m, \u001b[38;5;34m10\u001b[0m, \u001b[38;5;34m64\u001b[0m)              │             \u001b[38;5;34m256\u001b[0m │\n",
              "│ (\u001b[38;5;33mBatchNormalization\u001b[0m)                 │                             │                 │\n",
              "├──────────────────────────────────────┼─────────────────────────────┼─────────────────┤\n",
              "│ dropout (\u001b[38;5;33mDropout\u001b[0m)                    │ (\u001b[38;5;45mNone\u001b[0m, \u001b[38;5;34m10\u001b[0m, \u001b[38;5;34m64\u001b[0m)              │               \u001b[38;5;34m0\u001b[0m │\n",
              "├──────────────────────────────────────┼─────────────────────────────┼─────────────────┤\n",
              "│ lstm_1 (\u001b[38;5;33mLSTM\u001b[0m)                        │ (\u001b[38;5;45mNone\u001b[0m, \u001b[38;5;34m32\u001b[0m)                  │          \u001b[38;5;34m12,416\u001b[0m │\n",
              "├──────────────────────────────────────┼─────────────────────────────┼─────────────────┤\n",
              "│ batch_normalization_1                │ (\u001b[38;5;45mNone\u001b[0m, \u001b[38;5;34m32\u001b[0m)                  │             \u001b[38;5;34m128\u001b[0m │\n",
              "│ (\u001b[38;5;33mBatchNormalization\u001b[0m)                 │                             │                 │\n",
              "├──────────────────────────────────────┼─────────────────────────────┼─────────────────┤\n",
              "│ dropout_1 (\u001b[38;5;33mDropout\u001b[0m)                  │ (\u001b[38;5;45mNone\u001b[0m, \u001b[38;5;34m32\u001b[0m)                  │               \u001b[38;5;34m0\u001b[0m │\n",
              "├──────────────────────────────────────┼─────────────────────────────┼─────────────────┤\n",
              "│ dense (\u001b[38;5;33mDense\u001b[0m)                        │ (\u001b[38;5;45mNone\u001b[0m, \u001b[38;5;34m16\u001b[0m)                  │             \u001b[38;5;34m528\u001b[0m │\n",
              "├──────────────────────────────────────┼─────────────────────────────┼─────────────────┤\n",
              "│ dropout_2 (\u001b[38;5;33mDropout\u001b[0m)                  │ (\u001b[38;5;45mNone\u001b[0m, \u001b[38;5;34m16\u001b[0m)                  │               \u001b[38;5;34m0\u001b[0m │\n",
              "├──────────────────────────────────────┼─────────────────────────────┼─────────────────┤\n",
              "│ dense_1 (\u001b[38;5;33mDense\u001b[0m)                      │ (\u001b[38;5;45mNone\u001b[0m, \u001b[38;5;34m1\u001b[0m)                   │              \u001b[38;5;34m17\u001b[0m │\n",
              "└──────────────────────────────────────┴─────────────────────────────┴─────────────────┘\n"
            ],
            "text/html": [
              "<pre style=\"white-space:pre;overflow-x:auto;line-height:normal;font-family:Menlo,'DejaVu Sans Mono',consolas,'Courier New',monospace\">┏━━━━━━━━━━━━━━━━━━━━━━━━━━━━━━━━━━━━━━┳━━━━━━━━━━━━━━━━━━━━━━━━━━━━━┳━━━━━━━━━━━━━━━━━┓\n",
              "┃<span style=\"font-weight: bold\"> Layer (type)                         </span>┃<span style=\"font-weight: bold\"> Output Shape                </span>┃<span style=\"font-weight: bold\">         Param # </span>┃\n",
              "┡━━━━━━━━━━━━━━━━━━━━━━━━━━━━━━━━━━━━━━╇━━━━━━━━━━━━━━━━━━━━━━━━━━━━━╇━━━━━━━━━━━━━━━━━┩\n",
              "│ lstm (<span style=\"color: #0087ff; text-decoration-color: #0087ff\">LSTM</span>)                          │ (<span style=\"color: #00d7ff; text-decoration-color: #00d7ff\">None</span>, <span style=\"color: #00af00; text-decoration-color: #00af00\">10</span>, <span style=\"color: #00af00; text-decoration-color: #00af00\">64</span>)              │          <span style=\"color: #00af00; text-decoration-color: #00af00\">19,200</span> │\n",
              "├──────────────────────────────────────┼─────────────────────────────┼─────────────────┤\n",
              "│ batch_normalization                  │ (<span style=\"color: #00d7ff; text-decoration-color: #00d7ff\">None</span>, <span style=\"color: #00af00; text-decoration-color: #00af00\">10</span>, <span style=\"color: #00af00; text-decoration-color: #00af00\">64</span>)              │             <span style=\"color: #00af00; text-decoration-color: #00af00\">256</span> │\n",
              "│ (<span style=\"color: #0087ff; text-decoration-color: #0087ff\">BatchNormalization</span>)                 │                             │                 │\n",
              "├──────────────────────────────────────┼─────────────────────────────┼─────────────────┤\n",
              "│ dropout (<span style=\"color: #0087ff; text-decoration-color: #0087ff\">Dropout</span>)                    │ (<span style=\"color: #00d7ff; text-decoration-color: #00d7ff\">None</span>, <span style=\"color: #00af00; text-decoration-color: #00af00\">10</span>, <span style=\"color: #00af00; text-decoration-color: #00af00\">64</span>)              │               <span style=\"color: #00af00; text-decoration-color: #00af00\">0</span> │\n",
              "├──────────────────────────────────────┼─────────────────────────────┼─────────────────┤\n",
              "│ lstm_1 (<span style=\"color: #0087ff; text-decoration-color: #0087ff\">LSTM</span>)                        │ (<span style=\"color: #00d7ff; text-decoration-color: #00d7ff\">None</span>, <span style=\"color: #00af00; text-decoration-color: #00af00\">32</span>)                  │          <span style=\"color: #00af00; text-decoration-color: #00af00\">12,416</span> │\n",
              "├──────────────────────────────────────┼─────────────────────────────┼─────────────────┤\n",
              "│ batch_normalization_1                │ (<span style=\"color: #00d7ff; text-decoration-color: #00d7ff\">None</span>, <span style=\"color: #00af00; text-decoration-color: #00af00\">32</span>)                  │             <span style=\"color: #00af00; text-decoration-color: #00af00\">128</span> │\n",
              "│ (<span style=\"color: #0087ff; text-decoration-color: #0087ff\">BatchNormalization</span>)                 │                             │                 │\n",
              "├──────────────────────────────────────┼─────────────────────────────┼─────────────────┤\n",
              "│ dropout_1 (<span style=\"color: #0087ff; text-decoration-color: #0087ff\">Dropout</span>)                  │ (<span style=\"color: #00d7ff; text-decoration-color: #00d7ff\">None</span>, <span style=\"color: #00af00; text-decoration-color: #00af00\">32</span>)                  │               <span style=\"color: #00af00; text-decoration-color: #00af00\">0</span> │\n",
              "├──────────────────────────────────────┼─────────────────────────────┼─────────────────┤\n",
              "│ dense (<span style=\"color: #0087ff; text-decoration-color: #0087ff\">Dense</span>)                        │ (<span style=\"color: #00d7ff; text-decoration-color: #00d7ff\">None</span>, <span style=\"color: #00af00; text-decoration-color: #00af00\">16</span>)                  │             <span style=\"color: #00af00; text-decoration-color: #00af00\">528</span> │\n",
              "├──────────────────────────────────────┼─────────────────────────────┼─────────────────┤\n",
              "│ dropout_2 (<span style=\"color: #0087ff; text-decoration-color: #0087ff\">Dropout</span>)                  │ (<span style=\"color: #00d7ff; text-decoration-color: #00d7ff\">None</span>, <span style=\"color: #00af00; text-decoration-color: #00af00\">16</span>)                  │               <span style=\"color: #00af00; text-decoration-color: #00af00\">0</span> │\n",
              "├──────────────────────────────────────┼─────────────────────────────┼─────────────────┤\n",
              "│ dense_1 (<span style=\"color: #0087ff; text-decoration-color: #0087ff\">Dense</span>)                      │ (<span style=\"color: #00d7ff; text-decoration-color: #00d7ff\">None</span>, <span style=\"color: #00af00; text-decoration-color: #00af00\">1</span>)                   │              <span style=\"color: #00af00; text-decoration-color: #00af00\">17</span> │\n",
              "└──────────────────────────────────────┴─────────────────────────────┴─────────────────┘\n",
              "</pre>\n"
            ]
          },
          "metadata": {}
        },
        {
          "output_type": "display_data",
          "data": {
            "text/plain": [
              "\u001b[1m Total params: \u001b[0m\u001b[38;5;34m32,545\u001b[0m (127.13 KB)\n"
            ],
            "text/html": [
              "<pre style=\"white-space:pre;overflow-x:auto;line-height:normal;font-family:Menlo,'DejaVu Sans Mono',consolas,'Courier New',monospace\"><span style=\"font-weight: bold\"> Total params: </span><span style=\"color: #00af00; text-decoration-color: #00af00\">32,545</span> (127.13 KB)\n",
              "</pre>\n"
            ]
          },
          "metadata": {}
        },
        {
          "output_type": "display_data",
          "data": {
            "text/plain": [
              "\u001b[1m Trainable params: \u001b[0m\u001b[38;5;34m32,353\u001b[0m (126.38 KB)\n"
            ],
            "text/html": [
              "<pre style=\"white-space:pre;overflow-x:auto;line-height:normal;font-family:Menlo,'DejaVu Sans Mono',consolas,'Courier New',monospace\"><span style=\"font-weight: bold\"> Trainable params: </span><span style=\"color: #00af00; text-decoration-color: #00af00\">32,353</span> (126.38 KB)\n",
              "</pre>\n"
            ]
          },
          "metadata": {}
        },
        {
          "output_type": "display_data",
          "data": {
            "text/plain": [
              "\u001b[1m Non-trainable params: \u001b[0m\u001b[38;5;34m192\u001b[0m (768.00 B)\n"
            ],
            "text/html": [
              "<pre style=\"white-space:pre;overflow-x:auto;line-height:normal;font-family:Menlo,'DejaVu Sans Mono',consolas,'Courier New',monospace\"><span style=\"font-weight: bold\"> Non-trainable params: </span><span style=\"color: #00af00; text-decoration-color: #00af00\">192</span> (768.00 B)\n",
              "</pre>\n"
            ]
          },
          "metadata": {}
        }
      ]
    },
    {
      "cell_type": "markdown",
      "source": [
        "**Visualizing the model**"
      ],
      "metadata": {
        "id": "NAb1u2sBEwI-"
      }
    },
    {
      "cell_type": "code",
      "execution_count": null,
      "metadata": {
        "id": "LAyj0PNqrY3i",
        "colab": {
          "base_uri": "https://localhost:8080/"
        },
        "outputId": "260e59b4-c3d5-43b9-970d-b110c1ea72d0"
      },
      "outputs": [
        {
          "output_type": "stream",
          "name": "stdout",
          "text": [
            "Requirement already satisfied: keras-visualizer in /usr/local/lib/python3.10/dist-packages (3.2.0)\n",
            "Requirement already satisfied: graphviz in /usr/local/lib/python3.10/dist-packages (from keras-visualizer) (0.20.3)\n"
          ]
        }
      ],
      "source": [
        "!pip3 install keras-visualizer\n",
        "from keras_visualizer import visualizer\n",
        "import matplotlib.image as mpimg\n",
        "visualizer(model, file_format='png', view=True)"
      ]
    },
    {
      "cell_type": "code",
      "execution_count": null,
      "metadata": {
        "id": "MJt-iCh5tOpf",
        "colab": {
          "base_uri": "https://localhost:8080/",
          "height": 759
        },
        "outputId": "bf0815d0-1b70-4693-fd3f-53f6bb14e3a4"
      },
      "outputs": [
        {
          "output_type": "display_data",
          "data": {
            "text/plain": [
              "<Figure size 2000x900 with 1 Axes>"
            ],
            "image/png": "[encoded data removed]"
          },
          "metadata": {}
        }
      ],
      "source": [
        "%matplotlib inline\n",
        "img = mpimg.imread('graph.png')\n",
        "fig = plt.figure(figsize=[20,9])\n",
        "plt.imshow(img)\n",
        "plt.show()"
      ]
    },
    {
      "cell_type": "markdown",
      "metadata": {
        "id": "e8_S8UFjkCbB"
      },
      "source": [
        "## **Training the model**"
      ]
    },
    {
      "cell_type": "code",
      "source": [
        "print(f\"Shape of X_train: {X_train.shape}\")\n",
        "print(f\"Shape of X_test: {X_test.shape}\")\n"
      ],
      "metadata": {
        "colab": {
          "base_uri": "https://localhost:8080/"
        },
        "id": "BPDWZDE1wM3N",
        "outputId": "c2a18c6f-e73e-4266-8fe6-013f9017266a"
      },
      "execution_count": null,
      "outputs": [
        {
          "output_type": "stream",
          "name": "stdout",
          "text": [
            "Shape of X_train: (2777284, 10, 10)\n",
            "Shape of X_test: (694322, 10, 10)\n"
          ]
        }
      ]
    },
    {
      "cell_type": "code",
      "execution_count": null,
      "metadata": {
        "colab": {
          "base_uri": "https://localhost:8080/"
        },
        "id": "Ve_ywANrl5hT",
        "outputId": "ea80b366-b004-49cc-8514-1dae7ff69bef"
      },
      "outputs": [
        {
          "output_type": "stream",
          "name": "stdout",
          "text": [
            "Epoch 1/20\n",
            "\u001b[1m43396/43396\u001b[0m \u001b[32m━━━━━━━━━━━━━━━━━━━━\u001b[0m\u001b[37m\u001b[0m \u001b[1m0s\u001b[0m 10ms/step - accuracy: 0.9671 - loss: 0.0922\n",
            "Epoch 1: val_loss improved from inf to 0.03309, saving model to best_model.keras\n",
            "\u001b[1m43396/43396\u001b[0m \u001b[32m━━━━━━━━━━━━━━━━━━━━\u001b[0m\u001b[37m\u001b[0m \u001b[1m488s\u001b[0m 11ms/step - accuracy: 0.9671 - loss: 0.0922 - val_accuracy: 0.9882 - val_loss: 0.0331\n",
            "Epoch 2/20\n",
            "\u001b[1m43395/43396\u001b[0m \u001b[32m━━━━━━━━━━━━━━━━━━━\u001b[0m\u001b[37m━\u001b[0m \u001b[1m0s\u001b[0m 10ms/step - accuracy: 0.9865 - loss: 0.0392\n",
            "Epoch 2: val_loss improved from 0.03309 to 0.02615, saving model to best_model.keras\n",
            "\u001b[1m43396/43396\u001b[0m \u001b[32m━━━━━━━━━━━━━━━━━━━━\u001b[0m\u001b[37m\u001b[0m \u001b[1m500s\u001b[0m 11ms/step - accuracy: 0.9865 - loss: 0.0392 - val_accuracy: 0.9904 - val_loss: 0.0261\n",
            "Epoch 3/20\n",
            "\u001b[1m43392/43396\u001b[0m \u001b[32m━━━━━━━━━━━━━━━━━━━\u001b[0m\u001b[37m━\u001b[0m \u001b[1m0s\u001b[0m 10ms/step - accuracy: 0.9891 - loss: 0.0309\n",
            "Epoch 3: val_loss improved from 0.02615 to 0.02217, saving model to best_model.keras\n",
            "\u001b[1m43396/43396\u001b[0m \u001b[32m━━━━━━━━━━━━━━━━━━━━\u001b[0m\u001b[37m\u001b[0m \u001b[1m513s\u001b[0m 11ms/step - accuracy: 0.9891 - loss: 0.0309 - val_accuracy: 0.9916 - val_loss: 0.0222\n",
            "Epoch 4/20\n",
            "\u001b[1m23629/43396\u001b[0m \u001b[32m━━━━━━━━━━\u001b[0m\u001b[37m━━━━━━━━━━\u001b[0m \u001b[1m3:18\u001b[0m 10ms/step - accuracy: 0.9903 - loss: 0.0268"
          ]
        }
      ],
      "source": [
        "# Train the model\n",
        "\n",
        "history = model.fit(\n",
        "    X_train, y_train,\n",
        "    validation_data=(X_test, y_test),\n",
        "    epochs=20,\n",
        "    batch_size=64,\n",
        "    validation_split=0.2,\n",
        "    callbacks=[checkpoint_callback, early_stopping_callback],\n",
        "    verbose=1                   # 1 for progress bar, 2 for just line per epoch\n",
        ")\n"
      ]
    },
    {
      "cell_type": "markdown",
      "metadata": {
        "id": "-BMZFQGZkGVv"
      },
      "source": [
        "## **Evaluation of the model Accuracy (Accuracy)**"
      ]
    },
    {
      "cell_type": "code",
      "execution_count": null,
      "metadata": {
        "id": "frbgOOC9nGAH",
        "colab": {
          "base_uri": "https://localhost:8080/"
        },
        "outputId": "9bd6b2c7-5c95-421f-af17-1f89e8f25714"
      },
      "outputs": [
        {
          "output_type": "stream",
          "name": "stdout",
          "text": [
            "\u001b[1m21698/21698\u001b[0m \u001b[32m━━━━━━━━━━━━━━━━━━━━\u001b[0m\u001b[37m\u001b[0m \u001b[1m104s\u001b[0m 5ms/step - accuracy: 0.9922 - loss: 0.0213\n",
            "Test Accuracy: 0.9922\n"
          ]
        }
      ],
      "source": [
        "   # Evaluate the model\n",
        "loss, accuracy = model.evaluate(X_test, y_test)\n",
        "print(f'Test Accuracy: {accuracy:.4f}')\n"
      ]
    },
    {
      "cell_type": "markdown",
      "metadata": {
        "id": "Ji2HCNiEkppw"
      },
      "source": [
        "**Making a predection on the test dataset**"
      ]
    },
    {
      "cell_type": "code",
      "execution_count": null,
      "metadata": {
        "id": "TGI8jaq5nJbT",
        "colab": {
          "base_uri": "https://localhost:8080/"
        },
        "outputId": "f44ac8be-6a48-419e-982e-a9c8c1199289"
      },
      "outputs": [
        {
          "output_type": "stream",
          "name": "stdout",
          "text": [
            "\u001b[1m21698/21698\u001b[0m \u001b[32m━━━━━━━━━━━━━━━━━━━━\u001b[0m\u001b[37m\u001b[0m \u001b[1m102s\u001b[0m 5ms/step\n",
            "(694322, 1)\n"
          ]
        }
      ],
      "source": [
        "# Make predictions\n",
        "y_pred = (model.predict(X_test) > 0.5).astype(\"int32\")\n",
        "print(y_pred.shape)"
      ]
    },
    {
      "cell_type": "markdown",
      "metadata": {
        "id": "LpWYHFFVlHrQ"
      },
      "source": [
        "**Computing the matrics for the evaluation**"
      ]
    },
    {
      "cell_type": "code",
      "execution_count": null,
      "metadata": {
        "id": "T9skC4QwnAG2",
        "colab": {
          "base_uri": "https://localhost:8080/",
          "height": 216
        },
        "outputId": "c737eb7e-beb3-4b11-e0b4-0bb135d1305a"
      },
      "outputs": [
        {
          "output_type": "error",
          "ename": "NameError",
          "evalue": "name 'y_pred' is not defined",
          "traceback": [
            "\u001b[0;31m---------------------------------------------------------------------------\u001b[0m",
            "\u001b[0;31mNameError\u001b[0m                                 Traceback (most recent call last)",
            "\u001b[0;32m<ipython-input-29-09ddcd084c3e>\u001b[0m in \u001b[0;36m<cell line: 4>\u001b[0;34m()\u001b[0m\n\u001b[1;32m      2\u001b[0m \u001b[0;34m\u001b[0m\u001b[0m\n\u001b[1;32m      3\u001b[0m \u001b[0;31m# Compute metrics\u001b[0m\u001b[0;34m\u001b[0m\u001b[0;34m\u001b[0m\u001b[0m\n\u001b[0;32m----> 4\u001b[0;31m \u001b[0mprecision\u001b[0m \u001b[0;34m=\u001b[0m \u001b[0mprecision_score\u001b[0m\u001b[0;34m(\u001b[0m\u001b[0my_test\u001b[0m\u001b[0;34m,\u001b[0m \u001b[0my_pred\u001b[0m\u001b[0;34m)\u001b[0m\u001b[0;34m\u001b[0m\u001b[0;34m\u001b[0m\u001b[0m\n\u001b[0m\u001b[1;32m      5\u001b[0m \u001b[0mrecall\u001b[0m \u001b[0;34m=\u001b[0m \u001b[0mrecall_score\u001b[0m\u001b[0;34m(\u001b[0m\u001b[0my_test\u001b[0m\u001b[0;34m,\u001b[0m \u001b[0my_pred\u001b[0m\u001b[0;34m)\u001b[0m\u001b[0;34m\u001b[0m\u001b[0;34m\u001b[0m\u001b[0m\n\u001b[1;32m      6\u001b[0m \u001b[0mf1\u001b[0m \u001b[0;34m=\u001b[0m \u001b[0mf1_score\u001b[0m\u001b[0;34m(\u001b[0m\u001b[0my_test\u001b[0m\u001b[0;34m,\u001b[0m \u001b[0my_pred\u001b[0m\u001b[0;34m)\u001b[0m\u001b[0;34m\u001b[0m\u001b[0;34m\u001b[0m\u001b[0m\n",
            "\u001b[0;31mNameError\u001b[0m: name 'y_pred' is not defined"
          ]
        }
      ],
      "source": [
        "from sklearn.metrics import precision_score, recall_score, f1_score, confusion_matrix\n",
        "\n",
        "# Compute metrics\n",
        "precision = precision_score(y_test, y_pred)\n",
        "recall = recall_score(y_test, y_pred)\n",
        "f1 = f1_score(y_test, y_pred)\n",
        "\n",
        "# Precision\n",
        "print(f'Precision: {precision:.4f}')\n",
        "\n",
        "# Recall\n",
        "print(f'Recall: {recall:.4f}')\n",
        "\n",
        "# F1 Score\n",
        "print(f'F1 Score: {f1:.4f}')\n",
        "\n",
        "# Compute the confusion matrix\n",
        "cm = confusion_matrix(y_test, y_pred)\n",
        "\n",
        "# Plot the confusion matrix\n",
        "plt.figure(figsize=(8, 6))\n",
        "sns.heatmap(cm, annot=True, fmt='d', cmap='Blues', xticklabels=['Normal', 'Attack'], yticklabels=['Normal', 'Attack'])\n",
        "plt.xlabel('Predicted')\n",
        "plt.ylabel('Actual')\n",
        "plt.title('Confusion Matrix')\n",
        "plt.show()\n"
      ]
    },
    {
      "cell_type": "code",
      "execution_count": null,
      "metadata": {
        "id": "mK6O6NVSnAC_",
        "colab": {
          "base_uri": "https://localhost:8080/"
        },
        "outputId": "ee0db943-0e0b-4743-83af-8d99f8d98115"
      },
      "outputs": [
        {
          "output_type": "stream",
          "name": "stdout",
          "text": [
            "              precision    recall  f1-score   support\n",
            "\n",
            "           0       0.99      1.00      0.99    347543\n",
            "           1       1.00      0.99      0.99    346779\n",
            "\n",
            "    accuracy                           0.99    694322\n",
            "   macro avg       0.99      0.99      0.99    694322\n",
            "weighted avg       0.99      0.99      0.99    694322\n",
            "\n"
          ]
        }
      ],
      "source": [
        "# Print the classification report\n",
        "print(classification_report(y_test, y_pred))"
      ]
    },
    {
      "cell_type": "markdown",
      "metadata": {
        "id": "4wJmJmTezbD3"
      },
      "source": [
        "## **Testing on external data**"
      ]
    },
    {
      "cell_type": "code",
      "source": [
        "from tensorflow.keras.models import load_model\n",
        "\n",
        "# Load the model from the saved file\n",
        "model = load_model('best_model.keras')\n"
      ],
      "metadata": {
        "id": "eaBfTwkeBY6u"
      },
      "execution_count": 14,
      "outputs": []
    },
    {
      "cell_type": "code",
      "execution_count": 12,
      "metadata": {
        "id": "qGvjL8HhzjeT",
        "colab": {
          "base_uri": "https://localhost:8080/"
        },
        "outputId": "f443fe1f-41a4-4f0d-e256-4d4d34b5d0e6"
      },
      "outputs": [
        {
          "output_type": "execute_result",
          "data": {
            "text/plain": [
              "(1235992, 4)"
            ]
          },
          "metadata": {},
          "execution_count": 12
        }
      ],
      "source": [
        "# Load dataset\n",
        "df_test = pd.read_csv('fuzzing-1-traverse.csv')\n",
        "df_test.shape"
      ]
    },
    {
      "cell_type": "code",
      "source": [
        "def safe_convert_hex(x):\n",
        "    \"\"\"\n",
        "\n",
        "    Args:\n",
        "      x:\n",
        "\n",
        "    Returns:\n",
        "\n",
        "    \"\"\"\n",
        "    if pd.isna(x) or x == '' or isinstance(x, float):  # Handle missing or float values\n",
        "        return 0  # Return 0 for missing/invalid values\n",
        "    try:\n",
        "        return int(str(x), 16)  # Convert hex to int\n",
        "    except ValueError:\n",
        "        print(f\"Error converting {x} to int\")\n",
        "        return 0  # Return 0 for invalid hex values\n",
        "\n",
        "# Function to split the data field into bytes\n",
        "def split_data_field(data_field):\n",
        "    # Ensure each value is processed individually\n",
        "    if pd.isna(data_field) or isinstance(data_field, float):  # Handle missing/invalid values\n",
        "        return [0] * 8  # Return a list of 8 zeroes if the data field is missing or invalid\n",
        "\n",
        "    # Ensure it's a string and pad to 16 characters (8 bytes)\n",
        "    data_field = str(data_field).zfill(16)\n",
        "\n",
        "    # Split the data field into 8 bytes (chunks of 2 hex characters) and convert to integers\n",
        "    return [safe_convert_hex(data_field[i:i+2]) for i in range(0, len(data_field), 2)]\n",
        "\n",
        "# Convert timestamp to float\n",
        "df_test['timestamp'] = df_test['timestamp'].astype(float)\n",
        "\n",
        "# Convert arbitration_id and data_field\n",
        "df_test['arbitration_id'] = df_test['arbitration_id'].apply(safe_convert_hex)\n",
        "df_test['data_field'] = df_test['data_field'].apply(lambda x: split_data_field(x))\n",
        "\n",
        "# Now split `data_field` into individual byte columns\n",
        "df_test[['D0', 'D1', 'D2', 'D3', 'D4', 'D5', 'D6', 'D7']] = pd.DataFrame(df_test['data_field'].tolist(), index=df_test.index)\n",
        "\n",
        "# Ensure you're using all 11 features (timestamp, arbitration_id, and D0-D7)\n",
        "X_test = df_test[['timestamp', 'arbitration_id', 'D0', 'D1', 'D2', 'D3', 'D4', 'D5', 'D6', 'D7']].values\n",
        "y_test = df_test['attack'].values  # Binary labels: 0 (benign), 1 (attack)\n",
        "\n",
        "# Check the shape of the transformed data\n",
        "(X_test.shape, len(y_test))"
      ],
      "metadata": {
        "id": "xaYAywrsCyQL",
        "colab": {
          "base_uri": "https://localhost:8080/"
        },
        "outputId": "fd8563a7-9a21-42cb-f4cd-5a80c156ac65"
      },
      "execution_count": 13,
      "outputs": [
        {
          "output_type": "execute_result",
          "data": {
            "text/plain": [
              "((1235992, 10), 1235992)"
            ]
          },
          "metadata": {},
          "execution_count": 13
        }
      ]
    },
    {
      "cell_type": "code",
      "execution_count": 15,
      "metadata": {
        "id": "Gbfh8HLG2B7C",
        "colab": {
          "base_uri": "https://localhost:8080/"
        },
        "outputId": "1b4d996d-343c-4512-a0e9-9be319a6f250"
      },
      "outputs": [
        {
          "output_type": "stream",
          "name": "stdout",
          "text": [
            "[[-1.57235125 -0.90224797 -0.60505698 -0.71713053 -0.6004858  -0.67023164\n",
            "  -0.55758975 -0.75961821 -0.68311846 -0.86204638]\n",
            " [-1.57235114 -0.27714167 -0.49489533 -0.50434414 -0.49458006  2.07813908\n",
            "  -0.45489356  2.16160095 -0.68311846 -0.86204638]\n",
            " [-1.57235111  0.01040723 -0.60505698 -0.71713053 -0.6004858  -0.78718359\n",
            "  -0.55758975 -0.75961821 -0.5832936  -0.86204638]\n",
            " [-1.57235108  0.0166583  -0.60505698 -0.71713053 -0.6004858  -0.78718359\n",
            "  -0.55758975 -0.75961821 -0.68311846 -0.86204638]\n",
            " [-1.57233826 -0.09586084 -0.60505698 -0.71713053 -0.6004858  -0.78718359\n",
            "  -0.55758975 -0.56884472 -0.68311846 -0.86204638]]\n"
          ]
        }
      ],
      "source": [
        "# Initialize and fit the scaler\n",
        "scaler = StandardScaler()\n",
        "X_scaled = scaler.fit_transform(X_test)\n",
        "\n",
        "# Print first few rows of the scaled data to check\n",
        "print(X_scaled[:5])"
      ]
    },
    {
      "cell_type": "code",
      "execution_count": 16,
      "metadata": {
        "id": "0Wp8Z6F22JrZ"
      },
      "outputs": [],
      "source": [
        "X_sequence, y_sequence = create_sequences(X_scaled, y_test, 10)"
      ]
    },
    {
      "cell_type": "code",
      "execution_count": 17,
      "metadata": {
        "id": "XvvxP9dAzzec",
        "colab": {
          "base_uri": "https://localhost:8080/"
        },
        "outputId": "f93b1f79-6823-466a-c55a-1e63a598bff6"
      },
      "outputs": [
        {
          "output_type": "stream",
          "name": "stdout",
          "text": [
            "\u001b[1m38625/38625\u001b[0m \u001b[32m━━━━━━━━━━━━━━━━━━━━\u001b[0m\u001b[37m\u001b[0m \u001b[1m89s\u001b[0m 2ms/step\n",
            "(1235982, 1)\n"
          ]
        }
      ],
      "source": [
        "y_predicted = (model.predict(X_sequence) > 0.5).astype(\"int32\")\n",
        "print(y_predicted.shape)"
      ]
    },
    {
      "cell_type": "code",
      "execution_count": 18,
      "metadata": {
        "id": "hvADV6BE223Z",
        "colab": {
          "base_uri": "https://localhost:8080/"
        },
        "outputId": "c6aaabb4-d23c-4c2a-d591-39f750b5aa80"
      },
      "outputs": [
        {
          "output_type": "stream",
          "name": "stdout",
          "text": [
            "\u001b[1m38625/38625\u001b[0m \u001b[32m━━━━━━━━━━━━━━━━━━━━\u001b[0m\u001b[37m\u001b[0m \u001b[1m117s\u001b[0m 3ms/step - accuracy: 0.9232 - loss: 0.2560\n",
            "Test Accuracy: 0.9587\n"
          ]
        }
      ],
      "source": [
        "loss, accuracy = model.evaluate(X_sequence, y_sequence)\n",
        "print(f'Test Accuracy: {accuracy:.4f}')"
      ]
    },
    {
      "cell_type": "code",
      "execution_count": 19,
      "metadata": {
        "id": "ARZPCxbf30U_",
        "colab": {
          "base_uri": "https://localhost:8080/",
          "height": 618
        },
        "outputId": "45726f22-2b29-4bcf-e71f-5b632244ea24"
      },
      "outputs": [
        {
          "output_type": "stream",
          "name": "stdout",
          "text": [
            "Precision: 0.7809\n",
            "Recall: 0.7652\n",
            "F1 Score: 0.7729\n"
          ]
        },
        {
          "output_type": "display_data",
          "data": {
            "text/plain": [
              "<Figure size 800x600 with 2 Axes>"
            ],
            "image/png": "[encoded data removed]"
          },
          "metadata": {}
        }
      ],
      "source": [
        "from sklearn.metrics import precision_score, recall_score, f1_score, confusion_matrix\n",
        "\n",
        "# Compute metrics\n",
        "precision = precision_score(y_sequence, y_predicted)\n",
        "recall = recall_score(y_sequence, y_predicted)\n",
        "f1 = f1_score(y_sequence, y_predicted)\n",
        "\n",
        "#Precision\n",
        "print(f'Precision: {precision:.4f}')\n",
        "\n",
        "#Recall\n",
        "print(f'Recall: {recall:.4f}')\n",
        "\n",
        "#F1 Score\n",
        "print(f'F1 Score: {f1:.4f}')\n",
        "\n",
        "# Compute the confusion matrix\n",
        "cm = confusion_matrix(y_sequence, y_predicted)\n",
        "\n",
        "# Plot the confusion matrix\n",
        "plt.figure(figsize=(8, 6))\n",
        "sns.heatmap(cm, annot=True, fmt='d', cmap='Blues', xticklabels=['Normal', 'Attack'], yticklabels=['Normal', 'Attack'])\n",
        "plt.xlabel('Predicted')\n",
        "plt.ylabel('Actual')\n",
        "plt.title('Confusion Matrix')\n",
        "plt.show()"
      ]
    }
  ],
  "metadata": {
    "accelerator": "GPU",
    "colab": {
      "gpuType": "T4",
      "provenance": [],
      "collapsed_sections": [
        "Xj017bgwi__Q",
        "4wJmJmTezbD3"
      ]
    },
    "kernelspec": {
      "display_name": "Python 3",
      "name": "python3"
    },
    "language_info": {
      "name": "python"
    }
  },
  "nbformat": 4,
  "nbformat_minor": 0
}