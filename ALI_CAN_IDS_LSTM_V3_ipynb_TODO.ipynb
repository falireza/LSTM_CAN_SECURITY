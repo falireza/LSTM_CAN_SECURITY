{
  "cells": [
    {
      "cell_type": "markdown",
      "source": [
        "## **informations**\n",
        "\n"
      ],
      "metadata": {
        "id": "7sesEX1Im4Zx"
      }
    },
    {
      "cell_type": "markdown",
      "source": [
        "**Dear Teams,**\n",
        "\n",
        "This document provides a template for your work to create an LSTM based model that serves as a backend for an IDS system that filters malicious messages detected in the internal CAN network of a car. You should create a model that does binary classification on CAN message frames.\n",
        "\n",
        "0 - non-malicious\n",
        "\n",
        "1 - malicious/ (in this case) fuzzing messages\n",
        "\n",
        "\n",
        "You should be able to solve the task by only editing 'TODO' parts. Please don't make any changes to the remaining code snippets."
      ],
      "metadata": {
        "id": "wisJjb4UyF_v"
      }
    },
    {
      "cell_type": "markdown",
      "source": [
        "**Solutions**"
      ],
      "metadata": {
        "id": "CCiiA1r31ljb"
      }
    },
    {
      "cell_type": "markdown",
      "source": [
        "If you are ready with your solutions please send the models, as well as the finalised jupiter notebooks with outputs and the documentations to our contact email address."
      ],
      "metadata": {
        "id": "lyv6Rept1oBU"
      }
    },
    {
      "cell_type": "markdown",
      "source": [
        "**Contact us**"
      ],
      "metadata": {
        "id": "LHNlCGGB1JFR"
      }
    },
    {
      "cell_type": "markdown",
      "source": [
        "If you may have any questions send us an email: msgplaut.hu@gmail.com"
      ],
      "metadata": {
        "id": "4PGXXqks0qhw"
      }
    },
    {
      "cell_type": "markdown",
      "source": [
        "**Useful links**"
      ],
      "metadata": {
        "id": "n43plwBUx492"
      }
    },
    {
      "cell_type": "markdown",
      "source": [
        "LSTM-Based Intrusion Detection System for In-Vehicle Can Bus Communications: https://ieeexplore.ieee.org/abstract/document/9216166\\\n",
        "\n",
        "A curated CAN dataset for automotive intrusion detection: https://www.sciencedirect.com/science/article/pii/S0167404824000786#se0310\n",
        "(This is the source of the datasets provided by us)\n",
        "\n",
        "Multivariate Time Series Classification Tutorial with LSTM in PyTorch, PyTorch Lightning and Python: https://www.youtube.com/watch?v=PCgrgHgy26c\n",
        "(Watch out! In your solution you should be using tensorflow with keras)\n",
        "\n",
        "How LSTM Networks Work?: https://www.youtube.com/watch?v=guqgmVqcy2c"
      ],
      "metadata": {
        "id": "InGrrmIPyAwH"
      }
    },
    {
      "cell_type": "markdown",
      "source": [
        "## **Importing libraries**"
      ],
      "metadata": {
        "id": "TG5wJIspE75M"
      }
    },
    {
      "cell_type": "code",
      "execution_count": 1,
      "metadata": {
        "id": "fr5Z_GiwmdF0"
      },
      "outputs": [],
      "source": [
        "import pandas as pd\n",
        "import numpy as np\n",
        "from sklearn.model_selection import train_test_split\n",
        "from sklearn.preprocessing import StandardScaler\n",
        "from imblearn.over_sampling import SMOTE\n",
        "from tensorflow.keras.models import Sequential\n",
        "from tensorflow.keras.layers import LSTM, Dense, Dropout\n",
        "from tensorflow.keras.callbacks import ModelCheckpoint, EarlyStopping\n",
        "from sklearn.metrics import classification_report, confusion_matrix\n",
        "import matplotlib.pyplot as plt\n",
        "import seaborn as sns\n"
      ]
    },
    {
      "cell_type": "markdown",
      "metadata": {
        "id": "l9PavnwejGPy"
      },
      "source": [
        "## **Loading the dataset**"
      ]
    },
    {
      "cell_type": "code",
      "execution_count": 2,
      "metadata": {
        "id": "16KlovrUmggo",
        "outputId": "dd0731be-2a8a-4486-bad9-814fcbf96e89",
        "colab": {
          "base_uri": "https://localhost:8080/"
        }
      },
      "outputs": [
        {
          "output_type": "execute_result",
          "data": {
            "text/plain": [
              "(660170, 4)"
            ]
          },
          "metadata": {},
          "execution_count": 2
        }
      ],
      "source": [
        "# Load dataset\n",
        "dff = pd.read_csv('fuzzing-1-forester.csv')\n",
        "dfi = pd.read_csv('fuzzing-1-impala.csv')\n",
        "dfs = pd.read_csv('fuzzing-1-silverado.csv')\n",
        "\n",
        "dff.shape"
      ]
    },
    {
      "cell_type": "code",
      "execution_count": 3,
      "metadata": {
        "id": "LVhZ2yw7ZPVJ"
      },
      "outputs": [],
      "source": [
        "df = pd.concat([dff, dfi, dfs])"
      ]
    },
    {
      "cell_type": "markdown",
      "metadata": {
        "id": "Xj017bgwi__Q"
      },
      "source": [
        "## **Data Preprocessing:**"
      ]
    },
    {
      "cell_type": "code",
      "execution_count": 4,
      "metadata": {
        "id": "v4yoTXUCReeU"
      },
      "outputs": [],
      "source": [
        "# Define a function that handles the empty string case\n",
        "def safe_convert_hex(x):\n",
        "    if pd.isna(x) or x == '':\n",
        "        return 0  # Return 0 for missing values\n",
        "    try:\n",
        "        return int(str(x), 16)  # Ensure x is a string before converting\n",
        "    except ValueError:\n",
        "        print(f\"Error converting {x} to int\")\n",
        "        return 0  # Return 0 for any other conversion errors\n",
        "\n"
      ]
    },
    {
      "cell_type": "code",
      "execution_count": 5,
      "metadata": {
        "id": "zN0-CREkmmqd",
        "colab": {
          "base_uri": "https://localhost:8080/"
        },
        "outputId": "8a2e4729-6edb-457c-c4d2-2fbdd2aa117b"
      },
      "outputs": [
        {
          "output_type": "stream",
          "name": "stdout",
          "text": [
            "1859362\n"
          ]
        }
      ],
      "source": [
        "# Convert timestamp to float\n",
        "df['timestamp'] = df['timestamp'].astype(float)\n",
        "\n",
        "# Convert arbitration_id and data_field from hexadecimal to integers\n",
        "df['arbitration_id'] = df['arbitration_id'].apply(safe_convert_hex)\n",
        "df['data_field'] = df['data_field'].apply(safe_convert_hex)\n",
        "\n",
        "# Extract features and labels\n",
        "X = df[['arbitration_id', 'data_field']].values\n",
        "y = df['attack'].values\n",
        "print(len(X))"
      ]
    },
    {
      "cell_type": "code",
      "source": [
        "print(X[:5])"
      ],
      "metadata": {
        "colab": {
          "base_uri": "https://localhost:8080/"
        },
        "id": "9GQB3YEiJW-8",
        "outputId": "94a0e945-5104-4541-e944-6ad288de360c"
      },
      "execution_count": 6,
      "outputs": [
        {
          "output_type": "stream",
          "name": "stdout",
          "text": [
            "[[3.38000000e+02 1.79885028e+19]\n",
            " [3.56000000e+02 2.88230376e+17]\n",
            " [3.28000000e+02 7.99670960e+17]\n",
            " [3.29000000e+02 8.93549293e+18]\n",
            " [3.42000000e+02 1.08086391e+17]]\n"
          ]
        }
      ]
    },
    {
      "cell_type": "markdown",
      "metadata": {
        "id": "V40qCUMMjOe0"
      },
      "source": [
        "**Normalizing features**"
      ]
    },
    {
      "cell_type": "code",
      "execution_count": 7,
      "metadata": {
        "id": "5QTFCNZ4mpUm"
      },
      "outputs": [],
      "source": [
        "# Normalize features with scaler\n",
        "# Initialize the scaler\n",
        "scaler = StandardScaler()\n",
        "\n",
        "# Apply the scaler to the features\n",
        "X_scaled = scaler.fit_transform(X)\n",
        "\n"
      ]
    },
    {
      "cell_type": "code",
      "source": [
        "print(X_scaled[:5])"
      ],
      "metadata": {
        "colab": {
          "base_uri": "https://localhost:8080/"
        },
        "id": "P0evE7fdKSV_",
        "outputId": "1c6398e4-274c-45e0-b035-ea5edceb416f"
      },
      "execution_count": 8,
      "outputs": [
        {
          "output_type": "stream",
          "name": "stdout",
          "text": [
            "[[-0.35304924  3.00764396]\n",
            " [-0.2997958  -0.53477834]\n",
            " [-0.38263448 -0.43242181]\n",
            " [-0.37967596  1.19583094]\n",
            " [-0.34121514 -0.57083124]]\n"
          ]
        }
      ]
    },
    {
      "cell_type": "markdown",
      "metadata": {
        "id": "3w9Dc1AyjaPD"
      },
      "source": [
        "**Applying SMOTE to create balanced dataset**"
      ]
    },
    {
      "cell_type": "code",
      "execution_count": 9,
      "metadata": {
        "id": "le4eAYf1yiAc",
        "colab": {
          "base_uri": "https://localhost:8080/"
        },
        "outputId": "2a7dd50c-432e-4724-a6d9-97c1d96f3bea"
      },
      "outputs": [
        {
          "output_type": "stream",
          "name": "stdout",
          "text": [
            "Original dataset shape: (1859362, 2)\n",
            "Resampled dataset shape: (3471616, 2)\n"
          ]
        }
      ],
      "source": [
        "# Apply SMOTE to create balanced dataset\n",
        "# Initialize SMOTE\n",
        "smote = SMOTE(sampling_strategy='auto', random_state=42)\n",
        "\n",
        "# Apply SMOTE to balance the dataset\n",
        "X_resampled, y_resampled = smote.fit_resample(X_scaled, y)\n",
        "\n",
        "# Print the shape of the resampled data\n",
        "print(f\"Original dataset shape: {X_scaled.shape}\")\n",
        "print(f\"Resampled dataset shape: {X_resampled.shape}\")\n"
      ]
    },
    {
      "cell_type": "markdown",
      "metadata": {
        "id": "IXruzcckjlPE"
      },
      "source": [
        "**Sequence Creation**"
      ]
    },
    {
      "cell_type": "code",
      "execution_count": 10,
      "metadata": {
        "id": "aHjS_sz_mtYM"
      },
      "outputs": [],
      "source": [
        "# Define the sequence length\n",
        "sequence_length = 10\n",
        "\n",
        "# Create sequences\n",
        "def create_sequences(X, y, seq_length):\n",
        "    X_seq = []\n",
        "    y_seq = []\n",
        "\n",
        "    for i in range(len(X) - seq_length):\n",
        "        # Take a sequence of length `seq_length`\n",
        "        X_seq.append(X[i:i+seq_length])\n",
        "        # The corresponding label for the sequence will be the label of the last timestep\n",
        "        y_seq.append(y[i + seq_length - 1])\n",
        "\n",
        "    # Convert to numpy arrays\n",
        "    X_seq = np.array(X_seq)\n",
        "    y_seq = np.array(y_seq)\n",
        "\n",
        "    return X_seq, y_seq\n"
      ]
    },
    {
      "cell_type": "markdown",
      "metadata": {
        "id": "mS4XiZWIjtsW"
      },
      "source": [
        "**Creating sequences after resampling**\n"
      ]
    },
    {
      "cell_type": "code",
      "execution_count": 11,
      "metadata": {
        "id": "7kQR92-GysYS"
      },
      "outputs": [],
      "source": [
        "# Create sequences after resampling\n",
        "X_seq, y_seq = create_sequences(X_resampled, y_resampled, sequence_length)"
      ]
    },
    {
      "cell_type": "code",
      "source": [
        "# Print the shape of the sequences to check if they are correct\n",
        "print(f\"Shape of X_seq: {X_seq.shape}\")\n",
        "print(f\"Shape of y_seq: {y_seq.shape}\")"
      ],
      "metadata": {
        "colab": {
          "base_uri": "https://localhost:8080/"
        },
        "id": "heZOkIRZOPsN",
        "outputId": "0cef5a4c-920c-40d6-9c18-e412c963289c"
      },
      "execution_count": 12,
      "outputs": [
        {
          "output_type": "stream",
          "name": "stdout",
          "text": [
            "Shape of X_seq: (3471606, 10, 2)\n",
            "Shape of y_seq: (3471606,)\n"
          ]
        }
      ]
    },
    {
      "cell_type": "markdown",
      "metadata": {
        "id": "2wqtCo2Oj0fR"
      },
      "source": [
        "**Spliting the data into training and testing sets**"
      ]
    },
    {
      "cell_type": "code",
      "execution_count": 13,
      "metadata": {
        "id": "uJHYBBORmUa-",
        "colab": {
          "base_uri": "https://localhost:8080/"
        },
        "outputId": "3d82d91b-8b3a-4177-d7e2-42f51bf5ac29"
      },
      "outputs": [
        {
          "output_type": "stream",
          "name": "stdout",
          "text": [
            "Training set size: 2777284\n",
            "Test set size: 694322\n"
          ]
        }
      ],
      "source": [
        "# Split the data into training and testing sets\n",
        "X_train, X_test, y_train, y_test = train_test_split(X_seq, y_seq, test_size=0.2, random_state=42)\n",
        "# Print the size of the training and testing sets\n",
        "print(f'Training set size: {len(X_train)}')\n",
        "print(f'Test set size: {len(X_test)}')\n"
      ]
    },
    {
      "cell_type": "code",
      "execution_count": 14,
      "metadata": {
        "id": "KU2P98USsk2f"
      },
      "outputs": [],
      "source": [
        "# Define the ModelCheckpoint callback\n",
        "checkpoint_callback = ModelCheckpoint(\n",
        "    filepath='best_model.keras', # Path where the model will be saved\n",
        "    monitor='val_loss',       # Quantity to monitor\n",
        "    save_best_only=True,      # Save only the best model\n",
        "    verbose=1                 # Verbosity mode (1 = progress bar)\n",
        ")\n",
        "\n",
        "# Define the EarlyStopping callback\n",
        "early_stopping_callback = EarlyStopping(\n",
        "    monitor='val_loss',       # Quantity to monitor\n",
        "    patience=5,              # Number of epochs with no improvement after which training will be stopped\n",
        "    verbose=1                 # Verbosity mode\n",
        ")"
      ]
    },
    {
      "cell_type": "markdown",
      "metadata": {
        "id": "YMHUEfEyj6Fu"
      },
      "source": [
        "## **Defining a deeper LSTM model**"
      ]
    },
    {
      "cell_type": "code",
      "execution_count": 15,
      "metadata": {
        "id": "HGpkqqO4mUO5",
        "colab": {
          "base_uri": "https://localhost:8080/"
        },
        "outputId": "791f5345-251f-48bc-84e7-7211faf03bdd"
      },
      "outputs": [
        {
          "output_type": "stream",
          "name": "stderr",
          "text": [
            "/usr/local/lib/python3.10/dist-packages/keras/src/layers/rnn/rnn.py:204: UserWarning: Do not pass an `input_shape`/`input_dim` argument to a layer. When using Sequential models, prefer using an `Input(shape)` object as the first layer in the model instead.\n",
            "  super().__init__(**kwargs)\n"
          ]
        }
      ],
      "source": [
        "# Define a deeper LSTM model\n",
        "model = Sequential()\n",
        "\n",
        "# First LSTM layer\n",
        "model.add(LSTM(units=64, return_sequences=True, input_shape=(sequence_length, 2)))  # sequence_length=10, features=2\n",
        "model.add(Dropout(0.2))\n",
        "\n",
        "# Second LSTM layer\n",
        "model.add(LSTM(units=32, return_sequences=False))  # Output final hidden state\n",
        "model.add(Dropout(0.2))\n",
        "\n",
        "# Fully connected layer\n",
        "model.add(Dense(units=1, activation='sigmoid'))  # Sigmoid for binary classification\n"
      ]
    },
    {
      "cell_type": "markdown",
      "metadata": {
        "id": "XP4SQXkPj95T"
      },
      "source": [
        "**Compiling the model**"
      ]
    },
    {
      "cell_type": "code",
      "execution_count": 16,
      "metadata": {
        "id": "2Q5NrykumUCq"
      },
      "outputs": [],
      "source": [
        "# Compile the model\n",
        "model.compile(optimizer='adam',\n",
        "              loss='binary_crossentropy',\n",
        "              metrics=['accuracy'])\n"
      ]
    },
    {
      "cell_type": "code",
      "source": [
        "model.summary()"
      ],
      "metadata": {
        "colab": {
          "base_uri": "https://localhost:8080/",
          "height": 306
        },
        "id": "AnadKiN_Petl",
        "outputId": "f61d31bd-3518-41d2-f8e9-5fe09a75e27a"
      },
      "execution_count": 17,
      "outputs": [
        {
          "output_type": "display_data",
          "data": {
            "text/plain": [
              "\u001b[1mModel: \"sequential\"\u001b[0m\n"
            ],
            "text/html": [
              "<pre style=\"white-space:pre;overflow-x:auto;line-height:normal;font-family:Menlo,'DejaVu Sans Mono',consolas,'Courier New',monospace\"><span style=\"font-weight: bold\">Model: \"sequential\"</span>\n",
              "</pre>\n"
            ]
          },
          "metadata": {}
        },
        {
          "output_type": "display_data",
          "data": {
            "text/plain": [
              "┏━━━━━━━━━━━━━━━━━━━━━━━━━━━━━━━━━━━━━━┳━━━━━━━━━━━━━━━━━━━━━━━━━━━━━┳━━━━━━━━━━━━━━━━━┓\n",
              "┃\u001b[1m \u001b[0m\u001b[1mLayer (type)                        \u001b[0m\u001b[1m \u001b[0m┃\u001b[1m \u001b[0m\u001b[1mOutput Shape               \u001b[0m\u001b[1m \u001b[0m┃\u001b[1m \u001b[0m\u001b[1m        Param #\u001b[0m\u001b[1m \u001b[0m┃\n",
              "┡━━━━━━━━━━━━━━━━━━━━━━━━━━━━━━━━━━━━━━╇━━━━━━━━━━━━━━━━━━━━━━━━━━━━━╇━━━━━━━━━━━━━━━━━┩\n",
              "│ lstm (\u001b[38;5;33mLSTM\u001b[0m)                          │ (\u001b[38;5;45mNone\u001b[0m, \u001b[38;5;34m10\u001b[0m, \u001b[38;5;34m64\u001b[0m)              │          \u001b[38;5;34m17,152\u001b[0m │\n",
              "├──────────────────────────────────────┼─────────────────────────────┼─────────────────┤\n",
              "│ dropout (\u001b[38;5;33mDropout\u001b[0m)                    │ (\u001b[38;5;45mNone\u001b[0m, \u001b[38;5;34m10\u001b[0m, \u001b[38;5;34m64\u001b[0m)              │               \u001b[38;5;34m0\u001b[0m │\n",
              "├──────────────────────────────────────┼─────────────────────────────┼─────────────────┤\n",
              "│ lstm_1 (\u001b[38;5;33mLSTM\u001b[0m)                        │ (\u001b[38;5;45mNone\u001b[0m, \u001b[38;5;34m32\u001b[0m)                  │          \u001b[38;5;34m12,416\u001b[0m │\n",
              "├──────────────────────────────────────┼─────────────────────────────┼─────────────────┤\n",
              "│ dropout_1 (\u001b[38;5;33mDropout\u001b[0m)                  │ (\u001b[38;5;45mNone\u001b[0m, \u001b[38;5;34m32\u001b[0m)                  │               \u001b[38;5;34m0\u001b[0m │\n",
              "├──────────────────────────────────────┼─────────────────────────────┼─────────────────┤\n",
              "│ dense (\u001b[38;5;33mDense\u001b[0m)                        │ (\u001b[38;5;45mNone\u001b[0m, \u001b[38;5;34m1\u001b[0m)                   │              \u001b[38;5;34m33\u001b[0m │\n",
              "└──────────────────────────────────────┴─────────────────────────────┴─────────────────┘\n"
            ],
            "text/html": [
              "<pre style=\"white-space:pre;overflow-x:auto;line-height:normal;font-family:Menlo,'DejaVu Sans Mono',consolas,'Courier New',monospace\">┏━━━━━━━━━━━━━━━━━━━━━━━━━━━━━━━━━━━━━━┳━━━━━━━━━━━━━━━━━━━━━━━━━━━━━┳━━━━━━━━━━━━━━━━━┓\n",
              "┃<span style=\"font-weight: bold\"> Layer (type)                         </span>┃<span style=\"font-weight: bold\"> Output Shape                </span>┃<span style=\"font-weight: bold\">         Param # </span>┃\n",
              "┡━━━━━━━━━━━━━━━━━━━━━━━━━━━━━━━━━━━━━━╇━━━━━━━━━━━━━━━━━━━━━━━━━━━━━╇━━━━━━━━━━━━━━━━━┩\n",
              "│ lstm (<span style=\"color: #0087ff; text-decoration-color: #0087ff\">LSTM</span>)                          │ (<span style=\"color: #00d7ff; text-decoration-color: #00d7ff\">None</span>, <span style=\"color: #00af00; text-decoration-color: #00af00\">10</span>, <span style=\"color: #00af00; text-decoration-color: #00af00\">64</span>)              │          <span style=\"color: #00af00; text-decoration-color: #00af00\">17,152</span> │\n",
              "├──────────────────────────────────────┼─────────────────────────────┼─────────────────┤\n",
              "│ dropout (<span style=\"color: #0087ff; text-decoration-color: #0087ff\">Dropout</span>)                    │ (<span style=\"color: #00d7ff; text-decoration-color: #00d7ff\">None</span>, <span style=\"color: #00af00; text-decoration-color: #00af00\">10</span>, <span style=\"color: #00af00; text-decoration-color: #00af00\">64</span>)              │               <span style=\"color: #00af00; text-decoration-color: #00af00\">0</span> │\n",
              "├──────────────────────────────────────┼─────────────────────────────┼─────────────────┤\n",
              "│ lstm_1 (<span style=\"color: #0087ff; text-decoration-color: #0087ff\">LSTM</span>)                        │ (<span style=\"color: #00d7ff; text-decoration-color: #00d7ff\">None</span>, <span style=\"color: #00af00; text-decoration-color: #00af00\">32</span>)                  │          <span style=\"color: #00af00; text-decoration-color: #00af00\">12,416</span> │\n",
              "├──────────────────────────────────────┼─────────────────────────────┼─────────────────┤\n",
              "│ dropout_1 (<span style=\"color: #0087ff; text-decoration-color: #0087ff\">Dropout</span>)                  │ (<span style=\"color: #00d7ff; text-decoration-color: #00d7ff\">None</span>, <span style=\"color: #00af00; text-decoration-color: #00af00\">32</span>)                  │               <span style=\"color: #00af00; text-decoration-color: #00af00\">0</span> │\n",
              "├──────────────────────────────────────┼─────────────────────────────┼─────────────────┤\n",
              "│ dense (<span style=\"color: #0087ff; text-decoration-color: #0087ff\">Dense</span>)                        │ (<span style=\"color: #00d7ff; text-decoration-color: #00d7ff\">None</span>, <span style=\"color: #00af00; text-decoration-color: #00af00\">1</span>)                   │              <span style=\"color: #00af00; text-decoration-color: #00af00\">33</span> │\n",
              "└──────────────────────────────────────┴─────────────────────────────┴─────────────────┘\n",
              "</pre>\n"
            ]
          },
          "metadata": {}
        },
        {
          "output_type": "display_data",
          "data": {
            "text/plain": [
              "\u001b[1m Total params: \u001b[0m\u001b[38;5;34m29,601\u001b[0m (115.63 KB)\n"
            ],
            "text/html": [
              "<pre style=\"white-space:pre;overflow-x:auto;line-height:normal;font-family:Menlo,'DejaVu Sans Mono',consolas,'Courier New',monospace\"><span style=\"font-weight: bold\"> Total params: </span><span style=\"color: #00af00; text-decoration-color: #00af00\">29,601</span> (115.63 KB)\n",
              "</pre>\n"
            ]
          },
          "metadata": {}
        },
        {
          "output_type": "display_data",
          "data": {
            "text/plain": [
              "\u001b[1m Trainable params: \u001b[0m\u001b[38;5;34m29,601\u001b[0m (115.63 KB)\n"
            ],
            "text/html": [
              "<pre style=\"white-space:pre;overflow-x:auto;line-height:normal;font-family:Menlo,'DejaVu Sans Mono',consolas,'Courier New',monospace\"><span style=\"font-weight: bold\"> Trainable params: </span><span style=\"color: #00af00; text-decoration-color: #00af00\">29,601</span> (115.63 KB)\n",
              "</pre>\n"
            ]
          },
          "metadata": {}
        },
        {
          "output_type": "display_data",
          "data": {
            "text/plain": [
              "\u001b[1m Non-trainable params: \u001b[0m\u001b[38;5;34m0\u001b[0m (0.00 B)\n"
            ],
            "text/html": [
              "<pre style=\"white-space:pre;overflow-x:auto;line-height:normal;font-family:Menlo,'DejaVu Sans Mono',consolas,'Courier New',monospace\"><span style=\"font-weight: bold\"> Non-trainable params: </span><span style=\"color: #00af00; text-decoration-color: #00af00\">0</span> (0.00 B)\n",
              "</pre>\n"
            ]
          },
          "metadata": {}
        }
      ]
    },
    {
      "cell_type": "markdown",
      "source": [
        "**Visualizing the model**"
      ],
      "metadata": {
        "id": "NAb1u2sBEwI-"
      }
    },
    {
      "cell_type": "code",
      "execution_count": 18,
      "metadata": {
        "id": "LAyj0PNqrY3i",
        "colab": {
          "base_uri": "https://localhost:8080/"
        },
        "outputId": "25e41a83-7514-49b5-c731-3d591b6bb6e0"
      },
      "outputs": [
        {
          "output_type": "stream",
          "name": "stdout",
          "text": [
            "Collecting keras-visualizer\n",
            "  Downloading keras_visualizer-3.2.0-py3-none-any.whl.metadata (7.6 kB)\n",
            "Requirement already satisfied: graphviz in /usr/local/lib/python3.10/dist-packages (from keras-visualizer) (0.20.3)\n",
            "Downloading keras_visualizer-3.2.0-py3-none-any.whl (7.1 kB)\n",
            "Installing collected packages: keras-visualizer\n",
            "Successfully installed keras-visualizer-3.2.0\n"
          ]
        }
      ],
      "source": [
        "!pip3 install keras-visualizer\n",
        "from keras_visualizer import visualizer\n",
        "import matplotlib.image as mpimg\n",
        "visualizer(model, file_format='png', view=True)"
      ]
    },
    {
      "cell_type": "code",
      "execution_count": 19,
      "metadata": {
        "id": "MJt-iCh5tOpf",
        "colab": {
          "base_uri": "https://localhost:8080/",
          "height": 758
        },
        "outputId": "399c98e0-f60c-4f62-f4c1-90b4494ffe89"
      },
      "outputs": [
        {
          "output_type": "display_data",
          "data": {
            "text/plain": [
              "<Figure size 2000x900 with 1 Axes>"
            ],
            "image/png": "[encoded data removed]"
          },
          "metadata": {}
        }
      ],
      "source": [
        "%matplotlib inline\n",
        "img = mpimg.imread('graph.png')\n",
        "fig = plt.figure(figsize=[20,9])\n",
        "plt.imshow(img)\n",
        "plt.show()"
      ]
    },
    {
      "cell_type": "markdown",
      "metadata": {
        "id": "e8_S8UFjkCbB"
      },
      "source": [
        "## **Training the model**"
      ]
    },
    {
      "cell_type": "code",
      "execution_count": 20,
      "metadata": {
        "colab": {
          "base_uri": "https://localhost:8080/"
        },
        "id": "Ve_ywANrl5hT",
        "outputId": "21f7bf0a-c3a0-45c4-ae0c-bdf9d653add1"
      },
      "outputs": [
        {
          "output_type": "stream",
          "name": "stdout",
          "text": [
            "Epoch 1/20\n",
            "\u001b[1m43396/43396\u001b[0m \u001b[32m━━━━━━━━━━━━━━━━━━━━\u001b[0m\u001b[37m\u001b[0m \u001b[1m0s\u001b[0m 7ms/step - accuracy: 0.9585 - loss: 0.1150\n",
            "Epoch 1: val_loss improved from inf to 0.06227, saving model to best_model.keras\n",
            "\u001b[1m43396/43396\u001b[0m \u001b[32m━━━━━━━━━━━━━━━━━━━━\u001b[0m\u001b[37m\u001b[0m \u001b[1m320s\u001b[0m 7ms/step - accuracy: 0.9585 - loss: 0.1150 - val_accuracy: 0.9778 - val_loss: 0.0623\n",
            "Epoch 2/20\n",
            "\u001b[1m43396/43396\u001b[0m \u001b[32m━━━━━━━━━━━━━━━━━━━━\u001b[0m\u001b[37m\u001b[0m \u001b[1m0s\u001b[0m 6ms/step - accuracy: 0.9777 - loss: 0.0631\n",
            "Epoch 2: val_loss improved from 0.06227 to 0.04840, saving model to best_model.keras\n",
            "\u001b[1m43396/43396\u001b[0m \u001b[32m━━━━━━━━━━━━━━━━━━━━\u001b[0m\u001b[37m\u001b[0m \u001b[1m305s\u001b[0m 7ms/step - accuracy: 0.9777 - loss: 0.0631 - val_accuracy: 0.9827 - val_loss: 0.0484\n",
            "Epoch 3/20\n",
            "\u001b[1m43387/43396\u001b[0m \u001b[32m━━━━━━━━━━━━━━━━━━━\u001b[0m\u001b[37m━\u001b[0m \u001b[1m0s\u001b[0m 6ms/step - accuracy: 0.9817 - loss: 0.0520\n",
            "Epoch 3: val_loss improved from 0.04840 to 0.04148, saving model to best_model.keras\n",
            "\u001b[1m43396/43396\u001b[0m \u001b[32m━━━━━━━━━━━━━━━━━━━━\u001b[0m\u001b[37m\u001b[0m \u001b[1m305s\u001b[0m 7ms/step - accuracy: 0.9817 - loss: 0.0520 - val_accuracy: 0.9851 - val_loss: 0.0415\n",
            "Epoch 4/20\n",
            "\u001b[1m43391/43396\u001b[0m \u001b[32m━━━━━━━━━━━━━━━━━━━\u001b[0m\u001b[37m━\u001b[0m \u001b[1m0s\u001b[0m 6ms/step - accuracy: 0.9836 - loss: 0.0465\n",
            "Epoch 4: val_loss improved from 0.04148 to 0.03782, saving model to best_model.keras\n",
            "\u001b[1m43396/43396\u001b[0m \u001b[32m━━━━━━━━━━━━━━━━━━━━\u001b[0m\u001b[37m\u001b[0m \u001b[1m321s\u001b[0m 7ms/step - accuracy: 0.9836 - loss: 0.0465 - val_accuracy: 0.9865 - val_loss: 0.0378\n",
            "Epoch 5/20\n",
            "\u001b[1m43390/43396\u001b[0m \u001b[32m━━━━━━━━━━━━━━━━━━━\u001b[0m\u001b[37m━\u001b[0m \u001b[1m0s\u001b[0m 6ms/step - accuracy: 0.9849 - loss: 0.0430\n",
            "Epoch 5: val_loss improved from 0.03782 to 0.03607, saving model to best_model.keras\n",
            "\u001b[1m43396/43396\u001b[0m \u001b[32m━━━━━━━━━━━━━━━━━━━━\u001b[0m\u001b[37m\u001b[0m \u001b[1m336s\u001b[0m 7ms/step - accuracy: 0.9849 - loss: 0.0430 - val_accuracy: 0.9872 - val_loss: 0.0361\n",
            "Epoch 6/20\n",
            "\u001b[1m43392/43396\u001b[0m \u001b[32m━━━━━━━━━━━━━━━━━━━\u001b[0m\u001b[37m━\u001b[0m \u001b[1m0s\u001b[0m 6ms/step - accuracy: 0.9855 - loss: 0.0411\n",
            "Epoch 6: val_loss improved from 0.03607 to 0.03342, saving model to best_model.keras\n",
            "\u001b[1m43396/43396\u001b[0m \u001b[32m━━━━━━━━━━━━━━━━━━━━\u001b[0m\u001b[37m\u001b[0m \u001b[1m306s\u001b[0m 7ms/step - accuracy: 0.9855 - loss: 0.0411 - val_accuracy: 0.9881 - val_loss: 0.0334\n",
            "Epoch 7/20\n",
            "\u001b[1m43387/43396\u001b[0m \u001b[32m━━━━━━━━━━━━━━━━━━━\u001b[0m\u001b[37m━\u001b[0m \u001b[1m0s\u001b[0m 6ms/step - accuracy: 0.9864 - loss: 0.0387\n",
            "Epoch 7: val_loss improved from 0.03342 to 0.03185, saving model to best_model.keras\n",
            "\u001b[1m43396/43396\u001b[0m \u001b[32m━━━━━━━━━━━━━━━━━━━━\u001b[0m\u001b[37m\u001b[0m \u001b[1m323s\u001b[0m 7ms/step - accuracy: 0.9864 - loss: 0.0387 - val_accuracy: 0.9888 - val_loss: 0.0319\n",
            "Epoch 8/20\n",
            "\u001b[1m43393/43396\u001b[0m \u001b[32m━━━━━━━━━━━━━━━━━━━\u001b[0m\u001b[37m━\u001b[0m \u001b[1m0s\u001b[0m 6ms/step - accuracy: 0.9870 - loss: 0.0368\n",
            "Epoch 8: val_loss improved from 0.03185 to 0.03022, saving model to best_model.keras\n",
            "\u001b[1m43396/43396\u001b[0m \u001b[32m━━━━━━━━━━━━━━━━━━━━\u001b[0m\u001b[37m\u001b[0m \u001b[1m320s\u001b[0m 7ms/step - accuracy: 0.9870 - loss: 0.0368 - val_accuracy: 0.9894 - val_loss: 0.0302\n",
            "Epoch 9/20\n",
            "\u001b[1m43393/43396\u001b[0m \u001b[32m━━━━━━━━━━━━━━━━━━━\u001b[0m\u001b[37m━\u001b[0m \u001b[1m0s\u001b[0m 6ms/step - accuracy: 0.9876 - loss: 0.0355\n",
            "Epoch 9: val_loss improved from 0.03022 to 0.02899, saving model to best_model.keras\n",
            "\u001b[1m43396/43396\u001b[0m \u001b[32m━━━━━━━━━━━━━━━━━━━━\u001b[0m\u001b[37m\u001b[0m \u001b[1m303s\u001b[0m 7ms/step - accuracy: 0.9876 - loss: 0.0355 - val_accuracy: 0.9898 - val_loss: 0.0290\n",
            "Epoch 10/20\n",
            "\u001b[1m43389/43396\u001b[0m \u001b[32m━━━━━━━━━━━━━━━━━━━\u001b[0m\u001b[37m━\u001b[0m \u001b[1m0s\u001b[0m 6ms/step - accuracy: 0.9879 - loss: 0.0343\n",
            "Epoch 10: val_loss improved from 0.02899 to 0.02792, saving model to best_model.keras\n",
            "\u001b[1m43396/43396\u001b[0m \u001b[32m━━━━━━━━━━━━━━━━━━━━\u001b[0m\u001b[37m\u001b[0m \u001b[1m321s\u001b[0m 7ms/step - accuracy: 0.9879 - loss: 0.0343 - val_accuracy: 0.9902 - val_loss: 0.0279\n",
            "Epoch 11/20\n",
            "\u001b[1m43389/43396\u001b[0m \u001b[32m━━━━━━━━━━━━━━━━━━━\u001b[0m\u001b[37m━\u001b[0m \u001b[1m0s\u001b[0m 6ms/step - accuracy: 0.9883 - loss: 0.0331\n",
            "Epoch 11: val_loss improved from 0.02792 to 0.02745, saving model to best_model.keras\n",
            "\u001b[1m43396/43396\u001b[0m \u001b[32m━━━━━━━━━━━━━━━━━━━━\u001b[0m\u001b[37m\u001b[0m \u001b[1m334s\u001b[0m 7ms/step - accuracy: 0.9883 - loss: 0.0331 - val_accuracy: 0.9906 - val_loss: 0.0275\n",
            "Epoch 12/20\n",
            "\u001b[1m43392/43396\u001b[0m \u001b[32m━━━━━━━━━━━━━━━━━━━\u001b[0m\u001b[37m━\u001b[0m \u001b[1m0s\u001b[0m 6ms/step - accuracy: 0.9889 - loss: 0.0320\n",
            "Epoch 12: val_loss improved from 0.02745 to 0.02546, saving model to best_model.keras\n",
            "\u001b[1m43396/43396\u001b[0m \u001b[32m━━━━━━━━━━━━━━━━━━━━\u001b[0m\u001b[37m\u001b[0m \u001b[1m325s\u001b[0m 7ms/step - accuracy: 0.9889 - loss: 0.0320 - val_accuracy: 0.9910 - val_loss: 0.0255\n",
            "Epoch 13/20\n",
            "\u001b[1m43388/43396\u001b[0m \u001b[32m━━━━━━━━━━━━━━━━━━━\u001b[0m\u001b[37m━\u001b[0m \u001b[1m0s\u001b[0m 6ms/step - accuracy: 0.9890 - loss: 0.0311\n",
            "Epoch 13: val_loss did not improve from 0.02546\n",
            "\u001b[1m43396/43396\u001b[0m \u001b[32m━━━━━━━━━━━━━━━━━━━━\u001b[0m\u001b[37m\u001b[0m \u001b[1m307s\u001b[0m 7ms/step - accuracy: 0.9890 - loss: 0.0311 - val_accuracy: 0.9909 - val_loss: 0.0258\n",
            "Epoch 14/20\n",
            "\u001b[1m43396/43396\u001b[0m \u001b[32m━━━━━━━━━━━━━━━━━━━━\u001b[0m\u001b[37m\u001b[0m \u001b[1m0s\u001b[0m 6ms/step - accuracy: 0.9893 - loss: 0.0304\n",
            "Epoch 14: val_loss improved from 0.02546 to 0.02478, saving model to best_model.keras\n",
            "\u001b[1m43396/43396\u001b[0m \u001b[32m━━━━━━━━━━━━━━━━━━━━\u001b[0m\u001b[37m\u001b[0m \u001b[1m342s\u001b[0m 7ms/step - accuracy: 0.9893 - loss: 0.0304 - val_accuracy: 0.9914 - val_loss: 0.0248\n",
            "Epoch 15/20\n",
            "\u001b[1m43396/43396\u001b[0m \u001b[32m━━━━━━━━━━━━━━━━━━━━\u001b[0m\u001b[37m\u001b[0m \u001b[1m0s\u001b[0m 6ms/step - accuracy: 0.9897 - loss: 0.0296\n",
            "Epoch 15: val_loss did not improve from 0.02478\n",
            "\u001b[1m43396/43396\u001b[0m \u001b[32m━━━━━━━━━━━━━━━━━━━━\u001b[0m\u001b[37m\u001b[0m \u001b[1m321s\u001b[0m 7ms/step - accuracy: 0.9897 - loss: 0.0296 - val_accuracy: 0.9913 - val_loss: 0.0250\n",
            "Epoch 16/20\n",
            "\u001b[1m43390/43396\u001b[0m \u001b[32m━━━━━━━━━━━━━━━━━━━\u001b[0m\u001b[37m━\u001b[0m \u001b[1m0s\u001b[0m 6ms/step - accuracy: 0.9898 - loss: 0.0291\n",
            "Epoch 16: val_loss improved from 0.02478 to 0.02429, saving model to best_model.keras\n",
            "\u001b[1m43396/43396\u001b[0m \u001b[32m━━━━━━━━━━━━━━━━━━━━\u001b[0m\u001b[37m\u001b[0m \u001b[1m302s\u001b[0m 7ms/step - accuracy: 0.9898 - loss: 0.0291 - val_accuracy: 0.9917 - val_loss: 0.0243\n",
            "Epoch 17/20\n",
            "\u001b[1m43396/43396\u001b[0m \u001b[32m━━━━━━━━━━━━━━━━━━━━\u001b[0m\u001b[37m\u001b[0m \u001b[1m0s\u001b[0m 6ms/step - accuracy: 0.9899 - loss: 0.0286\n",
            "Epoch 17: val_loss improved from 0.02429 to 0.02312, saving model to best_model.keras\n",
            "\u001b[1m43396/43396\u001b[0m \u001b[32m━━━━━━━━━━━━━━━━━━━━\u001b[0m\u001b[37m\u001b[0m \u001b[1m323s\u001b[0m 7ms/step - accuracy: 0.9899 - loss: 0.0286 - val_accuracy: 0.9919 - val_loss: 0.0231\n",
            "Epoch 18/20\n",
            "\u001b[1m43392/43396\u001b[0m \u001b[32m━━━━━━━━━━━━━━━━━━━\u001b[0m\u001b[37m━\u001b[0m \u001b[1m0s\u001b[0m 6ms/step - accuracy: 0.9901 - loss: 0.0280\n",
            "Epoch 18: val_loss did not improve from 0.02312\n",
            "\u001b[1m43396/43396\u001b[0m \u001b[32m━━━━━━━━━━━━━━━━━━━━\u001b[0m\u001b[37m\u001b[0m \u001b[1m321s\u001b[0m 7ms/step - accuracy: 0.9901 - loss: 0.0280 - val_accuracy: 0.9918 - val_loss: 0.0232\n",
            "Epoch 19/20\n",
            "\u001b[1m43396/43396\u001b[0m \u001b[32m━━━━━━━━━━━━━━━━━━━━\u001b[0m\u001b[37m\u001b[0m \u001b[1m0s\u001b[0m 6ms/step - accuracy: 0.9902 - loss: 0.0277\n",
            "Epoch 19: val_loss improved from 0.02312 to 0.02276, saving model to best_model.keras\n",
            "\u001b[1m43396/43396\u001b[0m \u001b[32m━━━━━━━━━━━━━━━━━━━━\u001b[0m\u001b[37m\u001b[0m \u001b[1m323s\u001b[0m 7ms/step - accuracy: 0.9902 - loss: 0.0277 - val_accuracy: 0.9921 - val_loss: 0.0228\n",
            "Epoch 20/20\n",
            "\u001b[1m43392/43396\u001b[0m \u001b[32m━━━━━━━━━━━━━━━━━━━\u001b[0m\u001b[37m━\u001b[0m \u001b[1m0s\u001b[0m 6ms/step - accuracy: 0.9904 - loss: 0.0271\n",
            "Epoch 20: val_loss improved from 0.02276 to 0.02199, saving model to best_model.keras\n",
            "\u001b[1m43396/43396\u001b[0m \u001b[32m━━━━━━━━━━━━━━━━━━━━\u001b[0m\u001b[37m\u001b[0m \u001b[1m335s\u001b[0m 7ms/step - accuracy: 0.9904 - loss: 0.0271 - val_accuracy: 0.9924 - val_loss: 0.0220\n"
          ]
        }
      ],
      "source": [
        "# Train the model\n",
        "\n",
        "history = model.fit(\n",
        "    X_train, y_train,\n",
        "    validation_data=(X_test, y_test),\n",
        "    epochs=20,\n",
        "    batch_size=64,\n",
        "    callbacks=[checkpoint_callback, early_stopping_callback],\n",
        "    verbose=1                   # 1 for progress bar, 2 for just line per epoch\n",
        ")\n"
      ]
    },
    {
      "cell_type": "markdown",
      "metadata": {
        "id": "-BMZFQGZkGVv"
      },
      "source": [
        "## **Evaluation of the model Accuracy (Accuracy)**"
      ]
    },
    {
      "cell_type": "code",
      "execution_count": 21,
      "metadata": {
        "id": "frbgOOC9nGAH",
        "colab": {
          "base_uri": "https://localhost:8080/"
        },
        "outputId": "7e91e072-db62-4ba1-e661-ac8dd08cda8b"
      },
      "outputs": [
        {
          "output_type": "stream",
          "name": "stdout",
          "text": [
            "\u001b[1m21698/21698\u001b[0m \u001b[32m━━━━━━━━━━━━━━━━━━━━\u001b[0m\u001b[37m\u001b[0m \u001b[1m59s\u001b[0m 3ms/step - accuracy: 0.9922 - loss: 0.0224\n",
            "Test Accuracy: 0.9924\n"
          ]
        }
      ],
      "source": [
        "   # Evaluate the model\n",
        "loss, accuracy = model.evaluate(X_test, y_test)\n",
        "print(f'Test Accuracy: {accuracy:.4f}')\n"
      ]
    },
    {
      "cell_type": "markdown",
      "metadata": {
        "id": "Ji2HCNiEkppw"
      },
      "source": [
        "**Making a predection on the test dataset**"
      ]
    },
    {
      "cell_type": "code",
      "execution_count": 22,
      "metadata": {
        "id": "TGI8jaq5nJbT",
        "colab": {
          "base_uri": "https://localhost:8080/"
        },
        "outputId": "b4d9d8ee-3a36-4819-dba5-26a0abfa1fb0"
      },
      "outputs": [
        {
          "output_type": "stream",
          "name": "stdout",
          "text": [
            "\u001b[1m21698/21698\u001b[0m \u001b[32m━━━━━━━━━━━━━━━━━━━━\u001b[0m\u001b[37m\u001b[0m \u001b[1m44s\u001b[0m 2ms/step\n",
            "(694322, 1)\n"
          ]
        }
      ],
      "source": [
        "# Make predictions\n",
        "y_pred = (model.predict(X_test) > 0.5).astype(\"int32\")\n",
        "print(y_pred.shape)"
      ]
    },
    {
      "cell_type": "markdown",
      "metadata": {
        "id": "LpWYHFFVlHrQ"
      },
      "source": [
        "**Computing the matrics for the evaluation**"
      ]
    },
    {
      "cell_type": "code",
      "execution_count": 23,
      "metadata": {
        "id": "T9skC4QwnAG2",
        "colab": {
          "base_uri": "https://localhost:8080/",
          "height": 616
        },
        "outputId": "2155119f-f962-4089-e47c-3c9c88c2fe58"
      },
      "outputs": [
        {
          "output_type": "stream",
          "name": "stdout",
          "text": [
            "Precision: 0.9954\n",
            "Recall: 0.9894\n",
            "F1 Score: 0.9924\n"
          ]
        },
        {
          "output_type": "display_data",
          "data": {
            "text/plain": [
              "<Figure size 800x600 with 2 Axes>"
            ],
            "image/png": "[encoded data removed]"
          },
          "metadata": {}
        }
      ],
      "source": [
        "from sklearn.metrics import precision_score, recall_score, f1_score, confusion_matrix\n",
        "\n",
        "# Compute metrics\n",
        "precision = precision_score(y_test, y_pred)\n",
        "recall = recall_score(y_test, y_pred)\n",
        "f1 = f1_score(y_test, y_pred)\n",
        "\n",
        "# Precision\n",
        "print(f'Precision: {precision:.4f}')\n",
        "\n",
        "# Recall\n",
        "print(f'Recall: {recall:.4f}')\n",
        "\n",
        "# F1 Score\n",
        "print(f'F1 Score: {f1:.4f}')\n",
        "\n",
        "# Compute the confusion matrix\n",
        "cm = confusion_matrix(y_test, y_pred)\n",
        "\n",
        "# Plot the confusion matrix\n",
        "plt.figure(figsize=(8, 6))\n",
        "sns.heatmap(cm, annot=True, fmt='d', cmap='Blues', xticklabels=['Normal', 'Attack'], yticklabels=['Normal', 'Attack'])\n",
        "plt.xlabel('Predicted')\n",
        "plt.ylabel('Actual')\n",
        "plt.title('Confusion Matrix')\n",
        "plt.show()\n"
      ]
    },
    {
      "cell_type": "code",
      "execution_count": null,
      "metadata": {
        "id": "mK6O6NVSnAC_"
      },
      "outputs": [],
      "source": [
        "# Print the classification report\n",
        "print(classification_report(y_test, y_pred))"
      ]
    },
    {
      "cell_type": "markdown",
      "metadata": {
        "id": "4wJmJmTezbD3"
      },
      "source": [
        "## **Testing on external data**"
      ]
    },
    {
      "cell_type": "code",
      "execution_count": null,
      "metadata": {
        "id": "qGvjL8HhzjeT"
      },
      "outputs": [],
      "source": [
        "# Load dataset\n",
        "df_test = pd.read_csv('fuzzing-1-traverse.csv')\n",
        "df_test.shape"
      ]
    },
    {
      "cell_type": "code",
      "source": [
        "# Convert timestamp to float\n",
        "df_test['timestamp'] = df_test['timestamp'].astype(float)\n",
        "\n",
        "# Convert arbitration_id and data_field from hexadecimal to integers\n",
        "# TODO arbitration_id\n",
        "# TODO data_field (sepcial coversion: in case of empty strings return '0' as placeholder)\n",
        "\n",
        "# Extract features and labels\n",
        "X = df_test[['arbitration_id', 'data_field']].values\n",
        "y = df_test['attack'].values\n",
        "print(len(X))"
      ],
      "metadata": {
        "id": "xaYAywrsCyQL"
      },
      "execution_count": null,
      "outputs": []
    },
    {
      "cell_type": "code",
      "execution_count": null,
      "metadata": {
        "id": "Gbfh8HLG2B7C"
      },
      "outputs": [],
      "source": [
        "# Normalize features with scaler\n",
        "# TODO"
      ]
    },
    {
      "cell_type": "code",
      "execution_count": null,
      "metadata": {
        "id": "0Wp8Z6F22JrZ"
      },
      "outputs": [],
      "source": [
        "X_sequence, y_sequence = create_sequences(X, y, 10)"
      ]
    },
    {
      "cell_type": "code",
      "execution_count": null,
      "metadata": {
        "id": "XvvxP9dAzzec"
      },
      "outputs": [],
      "source": [
        "y_predicted = (model.predict(X_sequence) > 0.5).astype(\"int32\")\n",
        "print(y_predicted.shape)"
      ]
    },
    {
      "cell_type": "code",
      "execution_count": null,
      "metadata": {
        "id": "hvADV6BE223Z"
      },
      "outputs": [],
      "source": [
        "loss, accuracy = model.evaluate(X_sequence, y_sequence)\n",
        "print(f'Test Accuracy: {accuracy:.4f}')"
      ]
    },
    {
      "cell_type": "code",
      "execution_count": null,
      "metadata": {
        "id": "ARZPCxbf30U_"
      },
      "outputs": [],
      "source": [
        "# Compute metrics\n",
        "# precision = ...\n",
        "# recall = ...\n",
        "# f1 = ...\n",
        "\n",
        "#Precision\n",
        "print(f'Precision: {precision:.4f}')\n",
        "\n",
        "#Recall\n",
        "print(f'Recall: {recall:.4f}')\n",
        "\n",
        "#F1 Score\n",
        "print(f'F1 Score: {f1:.4f}')\n",
        "\n",
        "# Compute the confusion matrix\n",
        "# cm = ...\n",
        "\n",
        "# Plot the confusion matrix\n",
        "plt.figure(figsize=(8, 6))\n",
        "sns.heatmap(cm, annot=True, fmt='d', cmap='Blues', xticklabels=['Normal', 'Attack'], yticklabels=['Normal', 'Attack'])\n",
        "plt.xlabel('Predicted')\n",
        "plt.ylabel('Actual')\n",
        "plt.title('Confusion Matrix')\n",
        "plt.show()"
      ]
    }
  ],
  "metadata": {
    "accelerator": "GPU",
    "colab": {
      "gpuType": "T4",
      "provenance": [],
      "collapsed_sections": [
        "Xj017bgwi__Q",
        "4wJmJmTezbD3"
      ]
    },
    "kernelspec": {
      "display_name": "Python 3",
      "name": "python3"
    },
    "language_info": {
      "name": "python"
    }
  },
  "nbformat": 4,
  "nbformat_minor": 0
}